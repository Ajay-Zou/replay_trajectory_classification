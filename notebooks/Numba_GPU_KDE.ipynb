{
  "nbformat": 4,
  "nbformat_minor": 0,
  "metadata": {
    "colab": {
      "name": "Numba_GPU_KDE.ipynb",
      "version": "0.3.2",
      "provenance": [],
      "collapsed_sections": []
    },
    "kernelspec": {
      "name": "python3",
      "display_name": "Python 3"
    },
    "accelerator": "GPU"
  },
  "cells": [
    {
      "cell_type": "code",
      "metadata": {
        "id": "RKbuyz02USro",
        "colab_type": "code",
        "outputId": "61042261-2416-4ebc-b9f0-ab3b72c24b70",
        "colab": {
          "base_uri": "https://localhost:8080/",
          "height": 5505
        }
      },
      "source": [
        "!apt-get install nvidia-cuda-toolkit"
      ],
      "execution_count": 1,
      "outputs": [
        {
          "output_type": "stream",
          "text": [
            "Reading package lists... Done\n",
            "Building dependency tree       \n",
            "Reading state information... Done\n",
            "The following package was automatically installed and is no longer required:\n",
            "  libnvidia-common-410\n",
            "Use 'apt autoremove' to remove it.\n",
            "The following additional packages will be installed:\n",
            "  cpp-6 fonts-dejavu-core fonts-dejavu-extra g++-6 gcc-6 gcc-6-base\n",
            "  libaccinj64-9.1 libasan3 libatk-wrapper-java libatk-wrapper-java-jni\n",
            "  libcublas9.1 libcudart9.1 libcufft9.1 libcufftw9.1 libcuinj64-9.1\n",
            "  libcurand9.1 libcusolver9.1 libcusparse9.1 libgail-common libgail18\n",
            "  libgcc-6-dev libgtk2.0-0 libgtk2.0-bin libgtk2.0-common libnppc9.1\n",
            "  libnppial9.1 libnppicc9.1 libnppicom9.1 libnppidei9.1 libnppif9.1\n",
            "  libnppig9.1 libnppim9.1 libnppist9.1 libnppisu9.1 libnppitc9.1 libnpps9.1\n",
            "  libnvblas9.1 libnvgraph9.1 libnvrtc9.1 libnvtoolsext1 libnvvm3\n",
            "  libstdc++-6-dev libthrust-dev libvdpau-dev libxxf86dga1 nvidia-cuda-dev\n",
            "  nvidia-cuda-doc nvidia-cuda-gdb nvidia-profiler nvidia-visual-profiler\n",
            "  openjdk-8-jre x11-utils\n",
            "Suggested packages:\n",
            "  gcc-6-locales g++-6-multilib gcc-6-doc libstdc++6-6-dbg gcc-6-multilib\n",
            "  libgcc1-dbg libgomp1-dbg libitm1-dbg libatomic1-dbg libasan3-dbg\n",
            "  liblsan0-dbg libtsan0-dbg libubsan0-dbg libcilkrts5-dbg libmpx2-dbg\n",
            "  libquadmath0-dbg gvfs libstdc++-6-doc libvdpau-doc libcupti-dev\n",
            "  nvidia-driver icedtea-8-plugin mesa-utils\n",
            "Recommended packages:\n",
            "  libnvcuvid1\n",
            "The following NEW packages will be installed:\n",
            "  cpp-6 fonts-dejavu-core fonts-dejavu-extra g++-6 gcc-6 gcc-6-base\n",
            "  libaccinj64-9.1 libasan3 libatk-wrapper-java libatk-wrapper-java-jni\n",
            "  libcublas9.1 libcudart9.1 libcufft9.1 libcufftw9.1 libcuinj64-9.1\n",
            "  libcurand9.1 libcusolver9.1 libcusparse9.1 libgail-common libgail18\n",
            "  libgcc-6-dev libgtk2.0-0 libgtk2.0-bin libgtk2.0-common libnppc9.1\n",
            "  libnppial9.1 libnppicc9.1 libnppicom9.1 libnppidei9.1 libnppif9.1\n",
            "  libnppig9.1 libnppim9.1 libnppist9.1 libnppisu9.1 libnppitc9.1 libnpps9.1\n",
            "  libnvblas9.1 libnvgraph9.1 libnvrtc9.1 libnvtoolsext1 libnvvm3\n",
            "  libstdc++-6-dev libthrust-dev libvdpau-dev libxxf86dga1 nvidia-cuda-dev\n",
            "  nvidia-cuda-doc nvidia-cuda-gdb nvidia-cuda-toolkit nvidia-profiler\n",
            "  nvidia-visual-profiler openjdk-8-jre x11-utils\n",
            "0 upgraded, 53 newly installed, 0 to remove and 8 not upgraded.\n",
            "Need to get 802 MB of archives.\n",
            "After this operation, 1,893 MB of additional disk space will be used.\n",
            "Get:1 http://ppa.launchpad.net/graphics-drivers/ppa/ubuntu bionic/main amd64 libvdpau-dev amd64 1.2-0ubuntu0~gpu18.04.1 [41.5 kB]\n",
            "Get:2 http://archive.ubuntu.com/ubuntu bionic/main amd64 libxxf86dga1 amd64 2:1.1.4-1 [13.7 kB]\n",
            "Get:3 http://archive.ubuntu.com/ubuntu bionic-updates/universe amd64 gcc-6-base amd64 6.5.0-2ubuntu1~18.04 [16.7 kB]\n",
            "Get:4 http://archive.ubuntu.com/ubuntu bionic-updates/universe amd64 cpp-6 amd64 6.5.0-2ubuntu1~18.04 [6,396 kB]\n",
            "Get:5 http://archive.ubuntu.com/ubuntu bionic/main amd64 fonts-dejavu-core all 2.37-1 [1,041 kB]\n",
            "Get:6 http://archive.ubuntu.com/ubuntu bionic/main amd64 fonts-dejavu-extra all 2.37-1 [1,953 kB]\n",
            "Get:7 http://archive.ubuntu.com/ubuntu bionic-updates/universe amd64 libasan3 amd64 6.5.0-2ubuntu1~18.04 [313 kB]\n",
            "Get:8 http://archive.ubuntu.com/ubuntu bionic-updates/universe amd64 libgcc-6-dev amd64 6.5.0-2ubuntu1~18.04 [2,308 kB]\n",
            "Get:9 http://archive.ubuntu.com/ubuntu bionic-updates/universe amd64 gcc-6 amd64 6.5.0-2ubuntu1~18.04 [7,067 kB]\n",
            "Get:10 http://archive.ubuntu.com/ubuntu bionic-updates/universe amd64 libstdc++-6-dev amd64 6.5.0-2ubuntu1~18.04 [1,437 kB]\n",
            "Get:11 http://archive.ubuntu.com/ubuntu bionic-updates/universe amd64 g++-6 amd64 6.5.0-2ubuntu1~18.04 [7,213 kB]\n",
            "Get:12 http://archive.ubuntu.com/ubuntu bionic/multiverse amd64 libaccinj64-9.1 amd64 9.1.85-3ubuntu1 [1,748 kB]\n",
            "Get:13 http://archive.ubuntu.com/ubuntu bionic/main amd64 x11-utils amd64 7.7+3build1 [196 kB]\n",
            "Get:14 http://archive.ubuntu.com/ubuntu bionic/main amd64 libatk-wrapper-java all 0.33.3-20ubuntu0.1 [34.7 kB]\n",
            "Get:15 http://archive.ubuntu.com/ubuntu bionic/main amd64 libatk-wrapper-java-jni amd64 0.33.3-20ubuntu0.1 [28.3 kB]\n",
            "Get:16 http://archive.ubuntu.com/ubuntu bionic/multiverse amd64 libcublas9.1 amd64 9.1.85-3ubuntu1 [25.0 MB]\n",
            "Get:17 http://archive.ubuntu.com/ubuntu bionic/multiverse amd64 libcudart9.1 amd64 9.1.85-3ubuntu1 [121 kB]\n",
            "Get:18 http://archive.ubuntu.com/ubuntu bionic/multiverse amd64 libcufft9.1 amd64 9.1.85-3ubuntu1 [76.1 MB]\n",
            "Get:19 http://archive.ubuntu.com/ubuntu bionic/multiverse amd64 libcufftw9.1 amd64 9.1.85-3ubuntu1 [131 kB]\n",
            "Get:20 http://archive.ubuntu.com/ubuntu bionic/multiverse amd64 libcuinj64-9.1 amd64 9.1.85-3ubuntu1 [1,878 kB]\n",
            "Get:21 http://archive.ubuntu.com/ubuntu bionic/multiverse amd64 libcurand9.1 amd64 9.1.85-3ubuntu1 [38.9 MB]\n",
            "Get:22 http://archive.ubuntu.com/ubuntu bionic/multiverse amd64 libcusolver9.1 amd64 9.1.85-3ubuntu1 [28.2 MB]\n",
            "Get:23 http://archive.ubuntu.com/ubuntu bionic/multiverse amd64 libcusparse9.1 amd64 9.1.85-3ubuntu1 [25.2 MB]\n",
            "Get:24 http://archive.ubuntu.com/ubuntu bionic/main amd64 libgtk2.0-common all 2.24.32-1ubuntu1 [125 kB]\n",
            "Get:25 http://archive.ubuntu.com/ubuntu bionic/main amd64 libgtk2.0-0 amd64 2.24.32-1ubuntu1 [1,769 kB]\n",
            "Get:26 http://archive.ubuntu.com/ubuntu bionic/main amd64 libgail18 amd64 2.24.32-1ubuntu1 [14.2 kB]\n",
            "Get:27 http://archive.ubuntu.com/ubuntu bionic/main amd64 libgail-common amd64 2.24.32-1ubuntu1 [112 kB]\n",
            "Get:28 http://archive.ubuntu.com/ubuntu bionic/main amd64 libgtk2.0-bin amd64 2.24.32-1ubuntu1 [7,536 B]\n",
            "Get:29 http://archive.ubuntu.com/ubuntu bionic/multiverse amd64 libnppc9.1 amd64 9.1.85-3ubuntu1 [127 kB]\n",
            "Get:30 http://archive.ubuntu.com/ubuntu bionic/multiverse amd64 libnppial9.1 amd64 9.1.85-3ubuntu1 [3,169 kB]\n",
            "Get:31 http://archive.ubuntu.com/ubuntu bionic/multiverse amd64 libnppicc9.1 amd64 9.1.85-3ubuntu1 [1,376 kB]\n",
            "Get:32 http://archive.ubuntu.com/ubuntu bionic/multiverse amd64 libnppicom9.1 amd64 9.1.85-3ubuntu1 [497 kB]\n",
            "Get:33 http://archive.ubuntu.com/ubuntu bionic/multiverse amd64 libnppidei9.1 amd64 9.1.85-3ubuntu1 [1,673 kB]\n",
            "Get:34 http://archive.ubuntu.com/ubuntu bionic/multiverse amd64 libnppif9.1 amd64 9.1.85-3ubuntu1 [20.9 MB]\n",
            "Get:35 http://archive.ubuntu.com/ubuntu bionic/multiverse amd64 libnppig9.1 amd64 9.1.85-3ubuntu1 [9,960 kB]\n",
            "Get:36 http://archive.ubuntu.com/ubuntu bionic/multiverse amd64 libnppim9.1 amd64 9.1.85-3ubuntu1 [2,295 kB]\n",
            "Get:37 http://archive.ubuntu.com/ubuntu bionic/multiverse amd64 libnppist9.1 amd64 9.1.85-3ubuntu1 [4,910 kB]\n",
            "Get:38 http://archive.ubuntu.com/ubuntu bionic/multiverse amd64 libnppisu9.1 amd64 9.1.85-3ubuntu1 [120 kB]\n",
            "Get:39 http://archive.ubuntu.com/ubuntu bionic/multiverse amd64 libnppitc9.1 amd64 9.1.85-3ubuntu1 [714 kB]\n",
            "Get:40 http://archive.ubuntu.com/ubuntu bionic/multiverse amd64 libnpps9.1 amd64 9.1.85-3ubuntu1 [2,568 kB]\n",
            "Get:41 http://archive.ubuntu.com/ubuntu bionic/multiverse amd64 libnvblas9.1 amd64 9.1.85-3ubuntu1 [132 kB]\n",
            "Get:42 http://archive.ubuntu.com/ubuntu bionic/multiverse amd64 libnvgraph9.1 amd64 9.1.85-3ubuntu1 [6,252 kB]\n",
            "Get:43 http://archive.ubuntu.com/ubuntu bionic/multiverse amd64 libnvrtc9.1 amd64 9.1.85-3ubuntu1 [6,309 kB]\n",
            "Get:44 http://archive.ubuntu.com/ubuntu bionic-updates/universe amd64 openjdk-8-jre amd64 8u212-b03-0ubuntu1.18.04.1 [69.4 kB]\n",
            "Get:45 http://archive.ubuntu.com/ubuntu bionic/multiverse amd64 libnvtoolsext1 amd64 9.1.85-3ubuntu1 [31.3 kB]\n",
            "Get:46 http://archive.ubuntu.com/ubuntu bionic/multiverse amd64 libnvvm3 amd64 9.1.85-3ubuntu1 [4,274 kB]\n",
            "Get:47 http://archive.ubuntu.com/ubuntu bionic/multiverse amd64 libthrust-dev all 1.9.1~9.1.85-3ubuntu1 [461 kB]\n",
            "Get:48 http://archive.ubuntu.com/ubuntu bionic/multiverse amd64 nvidia-cuda-dev amd64 9.1.85-3ubuntu1 [263 MB]\n",
            "Get:49 http://archive.ubuntu.com/ubuntu bionic/multiverse amd64 nvidia-cuda-doc all 9.1.85-3ubuntu1 [95.2 MB]\n",
            "Get:50 http://archive.ubuntu.com/ubuntu bionic/multiverse amd64 nvidia-cuda-gdb amd64 9.1.85-3ubuntu1 [2,724 kB]\n",
            "Get:51 http://archive.ubuntu.com/ubuntu bionic/multiverse amd64 nvidia-profiler amd64 9.1.85-3ubuntu1 [2,672 kB]\n",
            "Get:52 http://archive.ubuntu.com/ubuntu bionic/multiverse amd64 nvidia-cuda-toolkit amd64 9.1.85-3ubuntu1 [30.4 MB]\n",
            "Get:53 http://archive.ubuntu.com/ubuntu bionic/multiverse amd64 nvidia-visual-profiler amd64 9.1.85-3ubuntu1 [115 MB]\n",
            "Fetched 802 MB in 35s (23.1 MB/s)\n",
            "Extracting templates from packages: 100%\n",
            "Selecting previously unselected package libxxf86dga1:amd64.\n",
            "(Reading database ... 130912 files and directories currently installed.)\n",
            "Preparing to unpack .../00-libxxf86dga1_2%3a1.1.4-1_amd64.deb ...\n",
            "Unpacking libxxf86dga1:amd64 (2:1.1.4-1) ...\n",
            "Selecting previously unselected package gcc-6-base:amd64.\n",
            "Preparing to unpack .../01-gcc-6-base_6.5.0-2ubuntu1~18.04_amd64.deb ...\n",
            "Unpacking gcc-6-base:amd64 (6.5.0-2ubuntu1~18.04) ...\n",
            "Selecting previously unselected package cpp-6.\n",
            "Preparing to unpack .../02-cpp-6_6.5.0-2ubuntu1~18.04_amd64.deb ...\n",
            "Unpacking cpp-6 (6.5.0-2ubuntu1~18.04) ...\n",
            "Selecting previously unselected package fonts-dejavu-core.\n",
            "Preparing to unpack .../03-fonts-dejavu-core_2.37-1_all.deb ...\n",
            "Unpacking fonts-dejavu-core (2.37-1) ...\n",
            "Selecting previously unselected package fonts-dejavu-extra.\n",
            "Preparing to unpack .../04-fonts-dejavu-extra_2.37-1_all.deb ...\n",
            "Unpacking fonts-dejavu-extra (2.37-1) ...\n",
            "Selecting previously unselected package libasan3:amd64.\n",
            "Preparing to unpack .../05-libasan3_6.5.0-2ubuntu1~18.04_amd64.deb ...\n",
            "Unpacking libasan3:amd64 (6.5.0-2ubuntu1~18.04) ...\n",
            "Selecting previously unselected package libgcc-6-dev:amd64.\n",
            "Preparing to unpack .../06-libgcc-6-dev_6.5.0-2ubuntu1~18.04_amd64.deb ...\n",
            "Unpacking libgcc-6-dev:amd64 (6.5.0-2ubuntu1~18.04) ...\n",
            "Selecting previously unselected package gcc-6.\n",
            "Preparing to unpack .../07-gcc-6_6.5.0-2ubuntu1~18.04_amd64.deb ...\n",
            "Unpacking gcc-6 (6.5.0-2ubuntu1~18.04) ...\n",
            "Selecting previously unselected package libstdc++-6-dev:amd64.\n",
            "Preparing to unpack .../08-libstdc++-6-dev_6.5.0-2ubuntu1~18.04_amd64.deb ...\n",
            "Unpacking libstdc++-6-dev:amd64 (6.5.0-2ubuntu1~18.04) ...\n",
            "Selecting previously unselected package g++-6.\n",
            "Preparing to unpack .../09-g++-6_6.5.0-2ubuntu1~18.04_amd64.deb ...\n",
            "Unpacking g++-6 (6.5.0-2ubuntu1~18.04) ...\n",
            "Selecting previously unselected package libaccinj64-9.1:amd64.\n",
            "Preparing to unpack .../10-libaccinj64-9.1_9.1.85-3ubuntu1_amd64.deb ...\n",
            "Unpacking libaccinj64-9.1:amd64 (9.1.85-3ubuntu1) ...\n",
            "Selecting previously unselected package x11-utils.\n",
            "Preparing to unpack .../11-x11-utils_7.7+3build1_amd64.deb ...\n",
            "Unpacking x11-utils (7.7+3build1) ...\n",
            "Selecting previously unselected package libatk-wrapper-java.\n",
            "Preparing to unpack .../12-libatk-wrapper-java_0.33.3-20ubuntu0.1_all.deb ...\n",
            "Unpacking libatk-wrapper-java (0.33.3-20ubuntu0.1) ...\n",
            "Selecting previously unselected package libatk-wrapper-java-jni:amd64.\n",
            "Preparing to unpack .../13-libatk-wrapper-java-jni_0.33.3-20ubuntu0.1_amd64.deb ...\n",
            "Unpacking libatk-wrapper-java-jni:amd64 (0.33.3-20ubuntu0.1) ...\n",
            "Selecting previously unselected package libcublas9.1:amd64.\n",
            "Preparing to unpack .../14-libcublas9.1_9.1.85-3ubuntu1_amd64.deb ...\n",
            "Unpacking libcublas9.1:amd64 (9.1.85-3ubuntu1) ...\n",
            "Selecting previously unselected package libcudart9.1:amd64.\n",
            "Preparing to unpack .../15-libcudart9.1_9.1.85-3ubuntu1_amd64.deb ...\n",
            "Unpacking libcudart9.1:amd64 (9.1.85-3ubuntu1) ...\n",
            "Selecting previously unselected package libcufft9.1:amd64.\n",
            "Preparing to unpack .../16-libcufft9.1_9.1.85-3ubuntu1_amd64.deb ...\n",
            "Unpacking libcufft9.1:amd64 (9.1.85-3ubuntu1) ...\n",
            "Selecting previously unselected package libcufftw9.1:amd64.\n",
            "Preparing to unpack .../17-libcufftw9.1_9.1.85-3ubuntu1_amd64.deb ...\n",
            "Unpacking libcufftw9.1:amd64 (9.1.85-3ubuntu1) ...\n",
            "Selecting previously unselected package libcuinj64-9.1:amd64.\n",
            "Preparing to unpack .../18-libcuinj64-9.1_9.1.85-3ubuntu1_amd64.deb ...\n",
            "Unpacking libcuinj64-9.1:amd64 (9.1.85-3ubuntu1) ...\n",
            "Selecting previously unselected package libcurand9.1:amd64.\n",
            "Preparing to unpack .../19-libcurand9.1_9.1.85-3ubuntu1_amd64.deb ...\n",
            "Unpacking libcurand9.1:amd64 (9.1.85-3ubuntu1) ...\n",
            "Selecting previously unselected package libcusolver9.1:amd64.\n",
            "Preparing to unpack .../20-libcusolver9.1_9.1.85-3ubuntu1_amd64.deb ...\n",
            "Unpacking libcusolver9.1:amd64 (9.1.85-3ubuntu1) ...\n",
            "Selecting previously unselected package libcusparse9.1:amd64.\n",
            "Preparing to unpack .../21-libcusparse9.1_9.1.85-3ubuntu1_amd64.deb ...\n",
            "Unpacking libcusparse9.1:amd64 (9.1.85-3ubuntu1) ...\n",
            "Selecting previously unselected package libgtk2.0-common.\n",
            "Preparing to unpack .../22-libgtk2.0-common_2.24.32-1ubuntu1_all.deb ...\n",
            "Unpacking libgtk2.0-common (2.24.32-1ubuntu1) ...\n",
            "Selecting previously unselected package libgtk2.0-0:amd64.\n",
            "Preparing to unpack .../23-libgtk2.0-0_2.24.32-1ubuntu1_amd64.deb ...\n",
            "Unpacking libgtk2.0-0:amd64 (2.24.32-1ubuntu1) ...\n",
            "Selecting previously unselected package libgail18:amd64.\n",
            "Preparing to unpack .../24-libgail18_2.24.32-1ubuntu1_amd64.deb ...\n",
            "Unpacking libgail18:amd64 (2.24.32-1ubuntu1) ...\n",
            "Selecting previously unselected package libgail-common:amd64.\n",
            "Preparing to unpack .../25-libgail-common_2.24.32-1ubuntu1_amd64.deb ...\n",
            "Unpacking libgail-common:amd64 (2.24.32-1ubuntu1) ...\n",
            "Selecting previously unselected package libgtk2.0-bin.\n",
            "Preparing to unpack .../26-libgtk2.0-bin_2.24.32-1ubuntu1_amd64.deb ...\n",
            "Unpacking libgtk2.0-bin (2.24.32-1ubuntu1) ...\n",
            "Selecting previously unselected package libnppc9.1:amd64.\n",
            "Preparing to unpack .../27-libnppc9.1_9.1.85-3ubuntu1_amd64.deb ...\n",
            "Unpacking libnppc9.1:amd64 (9.1.85-3ubuntu1) ...\n",
            "Selecting previously unselected package libnppial9.1:amd64.\n",
            "Preparing to unpack .../28-libnppial9.1_9.1.85-3ubuntu1_amd64.deb ...\n",
            "Unpacking libnppial9.1:amd64 (9.1.85-3ubuntu1) ...\n",
            "Selecting previously unselected package libnppicc9.1:amd64.\n",
            "Preparing to unpack .../29-libnppicc9.1_9.1.85-3ubuntu1_amd64.deb ...\n",
            "Unpacking libnppicc9.1:amd64 (9.1.85-3ubuntu1) ...\n",
            "Selecting previously unselected package libnppicom9.1:amd64.\n",
            "Preparing to unpack .../30-libnppicom9.1_9.1.85-3ubuntu1_amd64.deb ...\n",
            "Unpacking libnppicom9.1:amd64 (9.1.85-3ubuntu1) ...\n",
            "Selecting previously unselected package libnppidei9.1:amd64.\n",
            "Preparing to unpack .../31-libnppidei9.1_9.1.85-3ubuntu1_amd64.deb ...\n",
            "Unpacking libnppidei9.1:amd64 (9.1.85-3ubuntu1) ...\n",
            "Selecting previously unselected package libnppif9.1:amd64.\n",
            "Preparing to unpack .../32-libnppif9.1_9.1.85-3ubuntu1_amd64.deb ...\n",
            "Unpacking libnppif9.1:amd64 (9.1.85-3ubuntu1) ...\n",
            "Selecting previously unselected package libnppig9.1:amd64.\n",
            "Preparing to unpack .../33-libnppig9.1_9.1.85-3ubuntu1_amd64.deb ...\n",
            "Unpacking libnppig9.1:amd64 (9.1.85-3ubuntu1) ...\n",
            "Selecting previously unselected package libnppim9.1:amd64.\n",
            "Preparing to unpack .../34-libnppim9.1_9.1.85-3ubuntu1_amd64.deb ...\n",
            "Unpacking libnppim9.1:amd64 (9.1.85-3ubuntu1) ...\n",
            "Selecting previously unselected package libnppist9.1:amd64.\n",
            "Preparing to unpack .../35-libnppist9.1_9.1.85-3ubuntu1_amd64.deb ...\n",
            "Unpacking libnppist9.1:amd64 (9.1.85-3ubuntu1) ...\n",
            "Selecting previously unselected package libnppisu9.1:amd64.\n",
            "Preparing to unpack .../36-libnppisu9.1_9.1.85-3ubuntu1_amd64.deb ...\n",
            "Unpacking libnppisu9.1:amd64 (9.1.85-3ubuntu1) ...\n",
            "Selecting previously unselected package libnppitc9.1:amd64.\n",
            "Preparing to unpack .../37-libnppitc9.1_9.1.85-3ubuntu1_amd64.deb ...\n",
            "Unpacking libnppitc9.1:amd64 (9.1.85-3ubuntu1) ...\n",
            "Selecting previously unselected package libnpps9.1:amd64.\n",
            "Preparing to unpack .../38-libnpps9.1_9.1.85-3ubuntu1_amd64.deb ...\n",
            "Unpacking libnpps9.1:amd64 (9.1.85-3ubuntu1) ...\n",
            "Selecting previously unselected package libnvblas9.1:amd64.\n",
            "Preparing to unpack .../39-libnvblas9.1_9.1.85-3ubuntu1_amd64.deb ...\n",
            "Unpacking libnvblas9.1:amd64 (9.1.85-3ubuntu1) ...\n",
            "Selecting previously unselected package libnvgraph9.1:amd64.\n",
            "Preparing to unpack .../40-libnvgraph9.1_9.1.85-3ubuntu1_amd64.deb ...\n",
            "Unpacking libnvgraph9.1:amd64 (9.1.85-3ubuntu1) ...\n",
            "Selecting previously unselected package libnvrtc9.1:amd64.\n",
            "Preparing to unpack .../41-libnvrtc9.1_9.1.85-3ubuntu1_amd64.deb ...\n",
            "Unpacking libnvrtc9.1:amd64 (9.1.85-3ubuntu1) ...\n",
            "Selecting previously unselected package libvdpau-dev:amd64.\n",
            "Preparing to unpack .../42-libvdpau-dev_1.2-0ubuntu0~gpu18.04.1_amd64.deb ...\n",
            "Unpacking libvdpau-dev:amd64 (1.2-0ubuntu0~gpu18.04.1) ...\n",
            "Selecting previously unselected package openjdk-8-jre:amd64.\n",
            "Preparing to unpack .../43-openjdk-8-jre_8u212-b03-0ubuntu1.18.04.1_amd64.deb ...\n",
            "Unpacking openjdk-8-jre:amd64 (8u212-b03-0ubuntu1.18.04.1) ...\n",
            "Selecting previously unselected package libnvtoolsext1:amd64.\n",
            "Preparing to unpack .../44-libnvtoolsext1_9.1.85-3ubuntu1_amd64.deb ...\n",
            "Unpacking libnvtoolsext1:amd64 (9.1.85-3ubuntu1) ...\n",
            "Selecting previously unselected package libnvvm3:amd64.\n",
            "Preparing to unpack .../45-libnvvm3_9.1.85-3ubuntu1_amd64.deb ...\n",
            "Unpacking libnvvm3:amd64 (9.1.85-3ubuntu1) ...\n",
            "Selecting previously unselected package libthrust-dev.\n",
            "Preparing to unpack .../46-libthrust-dev_1.9.1~9.1.85-3ubuntu1_all.deb ...\n",
            "Unpacking libthrust-dev (1.9.1~9.1.85-3ubuntu1) ...\n",
            "Selecting previously unselected package nvidia-cuda-dev.\n",
            "Preparing to unpack .../47-nvidia-cuda-dev_9.1.85-3ubuntu1_amd64.deb ...\n",
            "Unpacking nvidia-cuda-dev (9.1.85-3ubuntu1) ...\n",
            "Selecting previously unselected package nvidia-cuda-doc.\n",
            "Preparing to unpack .../48-nvidia-cuda-doc_9.1.85-3ubuntu1_all.deb ...\n",
            "Unpacking nvidia-cuda-doc (9.1.85-3ubuntu1) ...\n",
            "Selecting previously unselected package nvidia-cuda-gdb.\n",
            "Preparing to unpack .../49-nvidia-cuda-gdb_9.1.85-3ubuntu1_amd64.deb ...\n",
            "Unpacking nvidia-cuda-gdb (9.1.85-3ubuntu1) ...\n",
            "Selecting previously unselected package nvidia-profiler.\n",
            "Preparing to unpack .../50-nvidia-profiler_9.1.85-3ubuntu1_amd64.deb ...\n",
            "Unpacking nvidia-profiler (9.1.85-3ubuntu1) ...\n",
            "Selecting previously unselected package nvidia-cuda-toolkit.\n",
            "Preparing to unpack .../51-nvidia-cuda-toolkit_9.1.85-3ubuntu1_amd64.deb ...\n",
            "Unpacking nvidia-cuda-toolkit (9.1.85-3ubuntu1) ...\n",
            "Selecting previously unselected package nvidia-visual-profiler.\n",
            "Preparing to unpack .../52-nvidia-visual-profiler_9.1.85-3ubuntu1_amd64.deb ...\n",
            "Unpacking nvidia-visual-profiler (9.1.85-3ubuntu1) ...\n",
            "Setting up libcufft9.1:amd64 (9.1.85-3ubuntu1) ...\n",
            "Setting up libnvtoolsext1:amd64 (9.1.85-3ubuntu1) ...\n",
            "Setting up libcusparse9.1:amd64 (9.1.85-3ubuntu1) ...\n",
            "Setting up libgtk2.0-common (2.24.32-1ubuntu1) ...\n",
            "Setting up nvidia-cuda-doc (9.1.85-3ubuntu1) ...\n",
            "Setting up libthrust-dev (1.9.1~9.1.85-3ubuntu1) ...\n",
            "Setting up libvdpau-dev:amd64 (1.2-0ubuntu0~gpu18.04.1) ...\n",
            "Processing triggers for mime-support (3.60ubuntu1) ...\n",
            "Setting up fonts-dejavu-core (2.37-1) ...\n",
            "Setting up gcc-6-base:amd64 (6.5.0-2ubuntu1~18.04) ...\n",
            "Setting up libcuinj64-9.1:amd64 (9.1.85-3ubuntu1) ...\n",
            "Setting up nvidia-cuda-gdb (9.1.85-3ubuntu1) ...\n",
            "Setting up libnppc9.1:amd64 (9.1.85-3ubuntu1) ...\n",
            "Setting up libaccinj64-9.1:amd64 (9.1.85-3ubuntu1) ...\n",
            "Setting up libcurand9.1:amd64 (9.1.85-3ubuntu1) ...\n",
            "Setting up libnvrtc9.1:amd64 (9.1.85-3ubuntu1) ...\n",
            "Setting up libnppitc9.1:amd64 (9.1.85-3ubuntu1) ...\n",
            "Setting up libnppif9.1:amd64 (9.1.85-3ubuntu1) ...\n",
            "Setting up libxxf86dga1:amd64 (2:1.1.4-1) ...\n",
            "Processing triggers for libc-bin (2.27-3ubuntu1) ...\n",
            "Setting up libnvvm3:amd64 (9.1.85-3ubuntu1) ...\n",
            "Setting up libcublas9.1:amd64 (9.1.85-3ubuntu1) ...\n",
            "Processing triggers for man-db (2.8.3-2ubuntu0.1) ...\n",
            "Setting up cpp-6 (6.5.0-2ubuntu1~18.04) ...\n",
            "Setting up libcufftw9.1:amd64 (9.1.85-3ubuntu1) ...\n",
            "Setting up libcudart9.1:amd64 (9.1.85-3ubuntu1) ...\n",
            "Setting up libnppim9.1:amd64 (9.1.85-3ubuntu1) ...\n",
            "Setting up fonts-dejavu-extra (2.37-1) ...\n",
            "Setting up libcusolver9.1:amd64 (9.1.85-3ubuntu1) ...\n",
            "Processing triggers for hicolor-icon-theme (0.17-2) ...\n",
            "Setting up libnvblas9.1:amd64 (9.1.85-3ubuntu1) ...\n",
            "Processing triggers for fontconfig (2.12.6-0ubuntu2) ...\n",
            "Setting up libnppidei9.1:amd64 (9.1.85-3ubuntu1) ...\n",
            "Setting up libnppial9.1:amd64 (9.1.85-3ubuntu1) ...\n",
            "Setting up nvidia-profiler (9.1.85-3ubuntu1) ...\n",
            "Setting up libgtk2.0-0:amd64 (2.24.32-1ubuntu1) ...\n",
            "Setting up libasan3:amd64 (6.5.0-2ubuntu1~18.04) ...\n",
            "Setting up libgcc-6-dev:amd64 (6.5.0-2ubuntu1~18.04) ...\n",
            "Setting up libstdc++-6-dev:amd64 (6.5.0-2ubuntu1~18.04) ...\n",
            "Setting up libgail18:amd64 (2.24.32-1ubuntu1) ...\n",
            "Setting up libnppicom9.1:amd64 (9.1.85-3ubuntu1) ...\n",
            "Setting up libnppisu9.1:amd64 (9.1.85-3ubuntu1) ...\n",
            "Setting up libnpps9.1:amd64 (9.1.85-3ubuntu1) ...\n",
            "Setting up libnppicc9.1:amd64 (9.1.85-3ubuntu1) ...\n",
            "Setting up x11-utils (7.7+3build1) ...\n",
            "Setting up libnppist9.1:amd64 (9.1.85-3ubuntu1) ...\n",
            "Setting up libgail-common:amd64 (2.24.32-1ubuntu1) ...\n",
            "Setting up libnppig9.1:amd64 (9.1.85-3ubuntu1) ...\n",
            "Setting up libnvgraph9.1:amd64 (9.1.85-3ubuntu1) ...\n",
            "Setting up nvidia-cuda-dev (9.1.85-3ubuntu1) ...\n",
            "Setting up gcc-6 (6.5.0-2ubuntu1~18.04) ...\n",
            "Setting up g++-6 (6.5.0-2ubuntu1~18.04) ...\n",
            "Setting up nvidia-cuda-toolkit (9.1.85-3ubuntu1) ...\n",
            "Setting up libatk-wrapper-java (0.33.3-20ubuntu0.1) ...\n",
            "Setting up libgtk2.0-bin (2.24.32-1ubuntu1) ...\n",
            "Setting up libatk-wrapper-java-jni:amd64 (0.33.3-20ubuntu0.1) ...\n",
            "Setting up openjdk-8-jre:amd64 (8u212-b03-0ubuntu1.18.04.1) ...\n",
            "update-alternatives: using /usr/lib/jvm/java-8-openjdk-amd64/jre/bin/policytool to provide /usr/bin/policytool (policytool) in auto mode\n",
            "Setting up nvidia-visual-profiler (9.1.85-3ubuntu1) ...\n",
            "Processing triggers for libc-bin (2.27-3ubuntu1) ...\n"
          ],
          "name": "stdout"
        }
      ]
    },
    {
      "cell_type": "code",
      "metadata": {
        "id": "e_a_SM4-SG_8",
        "colab_type": "code",
        "outputId": "3c7bb143-3a8a-459f-85a0-a92bcb2bb6cb",
        "colab": {
          "base_uri": "https://localhost:8080/",
          "height": 34
        }
      },
      "source": [
        "#GPU count and name\n",
        "!nvidia-smi -L"
      ],
      "execution_count": 4,
      "outputs": [
        {
          "output_type": "stream",
          "text": [
            "GPU 0: Tesla T4 (UUID: GPU-34755dd7-7c51-d514-a7b6-6b99054d10ea)\n"
          ],
          "name": "stdout"
        }
      ]
    },
    {
      "cell_type": "code",
      "metadata": {
        "id": "Y7UPpLLsSUPs",
        "colab_type": "code",
        "outputId": "04a20c3b-d91f-41f1-c481-61afa822b2a9",
        "colab": {
          "base_uri": "https://localhost:8080/",
          "height": 312
        }
      },
      "source": [
        "!nvidia-smi"
      ],
      "execution_count": 5,
      "outputs": [
        {
          "output_type": "stream",
          "text": [
            "Tue Jun 18 17:30:42 2019       \n",
            "+-----------------------------------------------------------------------------+\n",
            "| NVIDIA-SMI 418.67       Driver Version: 410.79       CUDA Version: 10.0     |\n",
            "|-------------------------------+----------------------+----------------------+\n",
            "| GPU  Name        Persistence-M| Bus-Id        Disp.A | Volatile Uncorr. ECC |\n",
            "| Fan  Temp  Perf  Pwr:Usage/Cap|         Memory-Usage | GPU-Util  Compute M. |\n",
            "|===============================+======================+======================|\n",
            "|   0  Tesla T4            Off  | 00000000:00:04.0 Off |                    0 |\n",
            "| N/A   63C    P8    17W /  70W |      0MiB / 15079MiB |      0%      Default |\n",
            "+-------------------------------+----------------------+----------------------+\n",
            "                                                                               \n",
            "+-----------------------------------------------------------------------------+\n",
            "| Processes:                                                       GPU Memory |\n",
            "|  GPU       PID   Type   Process name                             Usage      |\n",
            "|=============================================================================|\n",
            "|  No running processes found                                                 |\n",
            "+-----------------------------------------------------------------------------+\n"
          ],
          "name": "stdout"
        }
      ]
    },
    {
      "cell_type": "code",
      "metadata": {
        "id": "uSL1eNGzUh5F",
        "colab_type": "code",
        "colab": {}
      },
      "source": [
        "import os\n",
        "\n",
        "os.environ['NUMBAPRO_LIBDEVICE'] = \"/usr/lib/nvidia-cuda-toolkit/libdevice\"\n",
        "os.environ['NUMBAPRO_NVVM'] = \"/usr/lib/x86_64-linux-gnu/libnvvm.so\""
      ],
      "execution_count": 0,
      "outputs": []
    },
    {
      "cell_type": "code",
      "metadata": {
        "id": "OPGRFtm3VG51",
        "colab_type": "code",
        "colab": {}
      },
      "source": [
        "%matplotlib inline\n",
        "\n",
        "import matplotlib.pyplot as plt\n",
        "import numpy as np\n",
        "import cupy as cp\n",
        "from numba import cuda"
      ],
      "execution_count": 0,
      "outputs": []
    },
    {
      "cell_type": "markdown",
      "metadata": {
        "id": "_Wf6gbtE9E5N",
        "colab_type": "text"
      },
      "source": [
        "## Simulate Data"
      ]
    },
    {
      "cell_type": "code",
      "metadata": {
        "id": "JDi2DYvaVM0t",
        "colab_type": "code",
        "outputId": "f2c52c26-7e2e-4102-9c72-70ef13ac8ea4",
        "colab": {
          "base_uri": "https://localhost:8080/",
          "height": 286
        }
      },
      "source": [
        "from sklearn.datasets import make_blobs\n",
        "import matplotlib.pyplot as plt\n",
        "\n",
        "n_features = 6\n",
        "blob, _ = make_blobs(n_samples=10000, n_features=n_features)\n",
        "eval_points = np.linspace(-10, 10)\n",
        "grid = np.meshgrid(eval_points, eval_points)\n",
        "x_grid, y_grid = grid\n",
        "grid = np.stack([g.flat for g in grid], axis=1)\n",
        "b = np.ones((n_features,))\n",
        "\n",
        "\n",
        "blob = blob.astype(np.float32)\n",
        "b = b.astype(np.float32)\n",
        "\n",
        "plt.scatter(blob[:, 0], blob[:, 1], s=1)"
      ],
      "execution_count": 8,
      "outputs": [
        {
          "output_type": "execute_result",
          "data": {
            "text/plain": [
              "<matplotlib.collections.PathCollection at 0x7f95b36982e8>"
            ]
          },
          "metadata": {
            "tags": []
          },
          "execution_count": 8
        },
        {
          "output_type": "display_data",
          "data": {
            "image/png": "[encoded data removed]",
            "text/plain": [
              "<Figure size 432x288 with 1 Axes>"
            ]
          },
          "metadata": {
            "tags": []
          }
        }
      ]
    },
    {
      "cell_type": "code",
      "metadata": {
        "id": "_DcpGSEI9TQx",
        "colab_type": "code",
        "colab": {}
      },
      "source": [
        "eval_points = np.concatenate((grid, blob[0, 2:] * np.ones((grid.shape[0], 1))), axis=1)\n",
        "eval_points = eval_points.astype(np.float32)"
      ],
      "execution_count": 0,
      "outputs": []
    },
    {
      "cell_type": "markdown",
      "metadata": {
        "id": "hETssLTI9M8K",
        "colab_type": "text"
      },
      "source": [
        "## Cupy KDE"
      ]
    },
    {
      "cell_type": "code",
      "metadata": {
        "id": "HW6ibWH7WLui",
        "colab_type": "code",
        "colab": {}
      },
      "source": [
        "import math\n",
        "\n",
        "def gaussian(x):\n",
        "    return cp.exp(-0.5 * x**2) / cp.sqrt(2 * cp.pi)\n",
        "  \n",
        "@cp.fuse()\n",
        "def cupy_kde(eval_points, samples, bandwidths):\n",
        "  eval_points = cp.asarray(eval_points)\n",
        "  samples = cp.asarray(samples)\n",
        "  bandwidths = cp.asarray(bandwidths)\n",
        "  \n",
        "  return cp.asnumpy(cp.mean(\n",
        "      cp.prod(\n",
        "          gaussian(((cp.expand_dims(eval_points, axis=0) - cp.expand_dims(samples, axis=1)) / bandwidths)),\n",
        "      axis=-1),\n",
        "      axis=0) / cp.prod(bandwidths))"
      ],
      "execution_count": 0,
      "outputs": []
    },
    {
      "cell_type": "code",
      "metadata": {
        "id": "aqepcZFvXdFZ",
        "colab_type": "code",
        "colab": {}
      },
      "source": [
        "result = cupy_kde(eval_points, blob, b)"
      ],
      "execution_count": 0,
      "outputs": []
    },
    {
      "cell_type": "code",
      "metadata": {
        "id": "mGZggDtyXo21",
        "colab_type": "code",
        "colab": {
          "base_uri": "https://localhost:8080/",
          "height": 286
        },
        "outputId": "601ee96b-41ef-4599-88f4-dadc705fe60b"
      },
      "source": [
        "plt.pcolormesh(x_grid, y_grid, result.reshape((50, 50)))"
      ],
      "execution_count": 12,
      "outputs": [
        {
          "output_type": "execute_result",
          "data": {
            "text/plain": [
              "<matplotlib.collections.QuadMesh at 0x7f95a8975a90>"
            ]
          },
          "metadata": {
            "tags": []
          },
          "execution_count": 12
        },
        {
          "output_type": "display_data",
          "data": {
            "image/png": "[encoded data removed]",
            "text/plain": [
              "<Figure size 432x288 with 1 Axes>"
            ]
          },
          "metadata": {
            "tags": []
          }
        }
      ]
    },
    {
      "cell_type": "code",
      "metadata": {
        "id": "R1e4RBU0rr_-",
        "colab_type": "code",
        "colab": {
          "base_uri": "https://localhost:8080/",
          "height": 34
        },
        "outputId": "58dc4e22-879c-45f8-a870-a87a499fe290"
      },
      "source": [
        "%timeit cp.cuda.stream.get_current_stream().synchronize(); cupy_kde(eval_points, blob, b); cp.cuda.stream.get_current_stream().synchronize();"
      ],
      "execution_count": 13,
      "outputs": [
        {
          "output_type": "stream",
          "text": [
            "10 loops, best of 3: 59.6 ms per loop\n"
          ],
          "name": "stdout"
        }
      ]
    },
    {
      "cell_type": "code",
      "metadata": {
        "id": "3xM3yfq-rT52",
        "colab_type": "code",
        "colab": {
          "base_uri": "https://localhost:8080/",
          "height": 34
        },
        "outputId": "8f8d4366-6228-4ab1-a896-7708538bf464"
      },
      "source": [
        "from sklearn.neighbors import KernelDensity\n",
        "\n",
        "np.allclose(np.exp(KernelDensity(bandwidth=b[0]).fit(blob).score_samples(eval_points)), cupy_kde(eval_points, blob, b))"
      ],
      "execution_count": 45,
      "outputs": [
        {
          "output_type": "execute_result",
          "data": {
            "text/plain": [
              "True"
            ]
          },
          "metadata": {
            "tags": []
          },
          "execution_count": 45
        }
      ]
    },
    {
      "cell_type": "code",
      "metadata": {
        "id": "rOiAJOonrkek",
        "colab_type": "code",
        "colab": {}
      },
      "source": [
        ""
      ],
      "execution_count": 0,
      "outputs": []
    },
    {
      "cell_type": "markdown",
      "metadata": {
        "id": "u7FY32DE9d58",
        "colab_type": "text"
      },
      "source": [
        "## NUMBA CPU"
      ]
    },
    {
      "cell_type": "code",
      "metadata": {
        "id": "71h8Wmg-skTx",
        "colab_type": "code",
        "colab": {}
      },
      "source": [
        "import numba\n",
        "import math\n",
        "\n",
        "SQRT_2PI = np.float32(math.sqrt(2.0 * math.pi))\n",
        "\n",
        "@numba.vectorize(['float32(float32, float32, float32)'], nopython=True, target='cpu', fastmath=True)\n",
        "def gaussian_pdf(x, mean, sigma):\n",
        "    '''Compute the value of a Gaussian probability density function at x with given mean and sigma.'''\n",
        "    return math.exp(-0.5 * ((x - mean) / sigma)**2) / (sigma * SQRT_2PI)\n",
        "\n",
        "\n",
        "@numba.njit('float32[:](float32[:, :], float32[:, :], float32[:])', parallel=True, fastmath=True, nogil=True)\n",
        "def numba_kde_multithread2(eval_points, samples, bandwidths):\n",
        "    n_eval_points = len(eval_points)\n",
        "    result = np.zeros((n_eval_points,), dtype=np.float32)\n",
        "    n_samples = len(samples)\n",
        "    denom = n_samples * np.prod(bandwidths)\n",
        "\n",
        "    for i in numba.prange(n_eval_points):\n",
        "        for j in range(n_samples):\n",
        "            result[i] += np.prod(\n",
        "                gaussian_pdf(eval_points[i], samples[j], bandwidths))\n",
        "        result[i] /= denom\n",
        "\n",
        "    return result\n",
        "\n",
        "\n",
        "result = numba_kde_multithread2(eval_points, blob, b)"
      ],
      "execution_count": 0,
      "outputs": []
    },
    {
      "cell_type": "code",
      "metadata": {
        "id": "zJrNpQp4tXdP",
        "colab_type": "code",
        "outputId": "be66be09-e2c4-4552-d213-252b602e29ec",
        "colab": {
          "base_uri": "https://localhost:8080/",
          "height": 34
        }
      },
      "source": [
        "%timeit numba_kde_multithread2(eval_points, blob, b)"
      ],
      "execution_count": 26,
      "outputs": [
        {
          "output_type": "stream",
          "text": [
            "1 loop, best of 3: 2.91 s per loop\n"
          ],
          "name": "stdout"
        }
      ]
    },
    {
      "cell_type": "markdown",
      "metadata": {
        "id": "iSeE36n69q8O",
        "colab_type": "text"
      },
      "source": [
        "## NUMBA CUDA GPU\n",
        "+ One eval point only"
      ]
    },
    {
      "cell_type": "code",
      "metadata": {
        "id": "n0KGzco6JOVB",
        "colab_type": "code",
        "colab": {}
      },
      "source": [
        "from numba import cuda\n",
        "import math\n",
        "\n",
        "SQRT_2PI = np.float32(math.sqrt(2.0 * math.pi))\n",
        "\n",
        "\n",
        "@cuda.jit(device=True, inline=True)\n",
        "def gaussian_pdf(x, mean, sigma):\n",
        "    '''Compute the value of a Gaussian probability density function at x with given mean and sigma.'''\n",
        "    return math.exp(-0.5 * ((x - mean) / sigma)**2) / (sigma * SQRT_2PI)\n",
        "\n",
        "\n",
        "@cuda.jit\n",
        "def numba_kde_cuda(eval_points, samples, bandwidths, out):\n",
        "    thread_id = cuda.grid(1)\n",
        "    stride = cuda.gridsize(1)\n",
        "    n_samples = samples.shape[0]\n",
        "\n",
        "    for sample_ind in range(thread_id, n_samples, stride):\n",
        "        diff = 1.0\n",
        "        for bandwidth_ind in range(bandwidths.shape[0]):\n",
        "            diff *= (gaussian_pdf(eval_points[0, bandwidth_ind],\n",
        "                                  samples[sample_ind, bandwidth_ind],\n",
        "                                  bandwidths[bandwidth_ind])\n",
        "                     / bandwidths[bandwidth_ind])\n",
        "        diff /= n_samples\n",
        "        cuda.atomic.add(out, 0, diff)"
      ],
      "execution_count": 0,
      "outputs": []
    },
    {
      "cell_type": "code",
      "metadata": {
        "id": "EMJPcaxsJ_we",
        "colab_type": "code",
        "outputId": "8c102f23-71aa-40db-a21f-7256b33bf35a",
        "colab": {
          "base_uri": "https://localhost:8080/",
          "height": 34
        }
      },
      "source": [
        "out = np.zeros((1,), dtype=np.float32)\n",
        "\n",
        "threads_per_block = 64\n",
        "n_eval_points = 1\n",
        "n_train, n_test = blob.shape[0], n_eval_points\n",
        "blocks_per_grid = ((n_train * n_test) + (threads_per_block - 1)) // threads_per_block\n",
        "\n",
        "\n",
        "numba_kde_cuda[blocks_per_grid, threads_per_block](eval_points[[0]], blob, b, out)\n",
        "\n",
        "print(out)"
      ],
      "execution_count": 28,
      "outputs": [
        {
          "output_type": "stream",
          "text": [
            "[3.2279072e-36]\n"
          ],
          "name": "stdout"
        }
      ]
    },
    {
      "cell_type": "code",
      "metadata": {
        "id": "KH18x6nmZU4y",
        "colab_type": "code",
        "outputId": "62189eea-0872-43d8-eb9b-6efe51437585",
        "colab": {
          "base_uri": "https://localhost:8080/",
          "height": 34
        }
      },
      "source": [
        "numba_kde_multithread2(eval_points, blob, b)[0]"
      ],
      "execution_count": 29,
      "outputs": [
        {
          "output_type": "execute_result",
          "data": {
            "text/plain": [
              "3.23877e-36"
            ]
          },
          "metadata": {
            "tags": []
          },
          "execution_count": 29
        }
      ]
    },
    {
      "cell_type": "markdown",
      "metadata": {
        "id": "rpCV1cIS91MI",
        "colab_type": "text"
      },
      "source": [
        "## NUMBA CUDA GPU2\n",
        "+ All eval points (one spike, all position bins)\n",
        "+ Using atomic add"
      ]
    },
    {
      "cell_type": "code",
      "metadata": {
        "id": "le_ynbUSxcRV",
        "colab_type": "code",
        "colab": {}
      },
      "source": [
        "@cuda.jit\n",
        "def numba_kde_cuda2(eval_points, samples, bandwidths, out):\n",
        "    thread_id1, thread_id2 = cuda.grid(2)\n",
        "    stride1, stride2 = cuda.gridsize(2)\n",
        "    (n_eval, n_bandwidths), n_samples = eval_points.shape, samples.shape[0]\n",
        "\n",
        "    for eval_ind in range(thread_id1, n_eval, stride1):\n",
        "        for sample_ind in range(thread_id2, n_samples, stride2):\n",
        "            diff = 1.0\n",
        "            for bandwidth_ind in range(n_bandwidths):\n",
        "                diff *= (gaussian_pdf(eval_points[eval_ind, bandwidth_ind],\n",
        "                                      samples[sample_ind, bandwidth_ind],\n",
        "                                      bandwidths[bandwidth_ind])\n",
        "                         / bandwidths[bandwidth_ind])\n",
        "            diff /= n_samples\n",
        "            cuda.atomic.add(out, eval_ind, diff)"
      ],
      "execution_count": 0,
      "outputs": []
    },
    {
      "cell_type": "code",
      "metadata": {
        "id": "W_hByNQ04vT8",
        "colab_type": "code",
        "colab": {}
      },
      "source": [
        "n_eval_points = eval_points.shape[0]\n",
        "out = np.zeros((n_eval_points,), dtype=np.float32)\n",
        "n_train, n_test = blob.shape[0], n_eval_points\n",
        "\n",
        "threads_per_block = 16, 16\n",
        "blocks_per_grid_x = math.ceil(n_test / threads_per_block[0])\n",
        "blocks_per_grid_y = math.ceil(n_train / threads_per_block[1])\n",
        "blocks_per_grid = blocks_per_grid_x, blocks_per_grid_y\n",
        "\n",
        "\n",
        "numba_kde_cuda2[blocks_per_grid, threads_per_block](eval_points, blob, b, out)"
      ],
      "execution_count": 0,
      "outputs": []
    },
    {
      "cell_type": "code",
      "metadata": {
        "id": "MTNVc7JT53II",
        "colab_type": "code",
        "outputId": "2fcaa6d4-5500-47c7-cf03-8c608a1da4f7",
        "colab": {
          "base_uri": "https://localhost:8080/",
          "height": 34
        }
      },
      "source": [
        "np.allclose(numba_kde_multithread2(eval_points, blob, b), out)"
      ],
      "execution_count": 32,
      "outputs": [
        {
          "output_type": "execute_result",
          "data": {
            "text/plain": [
              "True"
            ]
          },
          "metadata": {
            "tags": []
          },
          "execution_count": 32
        }
      ]
    },
    {
      "cell_type": "code",
      "metadata": {
        "id": "yEMSIhuJ6Uem",
        "colab_type": "code",
        "outputId": "723d3a70-22cb-44a2-b3f4-67feef5397bc",
        "colab": {
          "base_uri": "https://localhost:8080/",
          "height": 34
        }
      },
      "source": [
        "from sklearn.neighbors import KernelDensity\n",
        "\n",
        "np.allclose(np.exp(KernelDensity(bandwidth=b[0]).fit(blob).score_samples(eval_points)), out)"
      ],
      "execution_count": 33,
      "outputs": [
        {
          "output_type": "execute_result",
          "data": {
            "text/plain": [
              "True"
            ]
          },
          "metadata": {
            "tags": []
          },
          "execution_count": 33
        }
      ]
    },
    {
      "cell_type": "code",
      "metadata": {
        "id": "Aiq1t1TD_UYe",
        "colab_type": "code",
        "outputId": "ed3c483d-1577-4a5f-ab2f-337bba58b578",
        "colab": {
          "base_uri": "https://localhost:8080/",
          "height": 286
        }
      },
      "source": [
        "result = np.exp(KernelDensity(bandwidth=b[0]).fit(blob).score_samples(eval_points))\n",
        "\n",
        "plt.pcolormesh(x_grid, y_grid, result.reshape((50, 50)))"
      ],
      "execution_count": 34,
      "outputs": [
        {
          "output_type": "execute_result",
          "data": {
            "text/plain": [
              "<matplotlib.collections.QuadMesh at 0x7f95a33ce080>"
            ]
          },
          "metadata": {
            "tags": []
          },
          "execution_count": 34
        },
        {
          "output_type": "display_data",
          "data": {
            "image/png": "[encoded data removed]",
            "text/plain": [
              "<Figure size 432x288 with 1 Axes>"
            ]
          },
          "metadata": {
            "tags": []
          }
        }
      ]
    },
    {
      "cell_type": "code",
      "metadata": {
        "id": "WpJFXsCg_cbr",
        "colab_type": "code",
        "outputId": "3d5eb0f0-90d2-467e-ba66-5e90c5be9f80",
        "colab": {
          "base_uri": "https://localhost:8080/",
          "height": 286
        }
      },
      "source": [
        "plt.pcolormesh(x_grid, y_grid, out.reshape((50, 50)))"
      ],
      "execution_count": 35,
      "outputs": [
        {
          "output_type": "execute_result",
          "data": {
            "text/plain": [
              "<matplotlib.collections.QuadMesh at 0x7f95a32322b0>"
            ]
          },
          "metadata": {
            "tags": []
          },
          "execution_count": 35
        },
        {
          "output_type": "display_data",
          "data": {
            "image/png": "[encoded data removed]",
            "text/plain": [
              "<Figure size 432x288 with 1 Axes>"
            ]
          },
          "metadata": {
            "tags": []
          }
        }
      ]
    },
    {
      "cell_type": "code",
      "metadata": {
        "id": "ORQ-Y-Of_d2C",
        "colab_type": "code",
        "outputId": "1c2b9eb6-eea9-424a-f6c3-9579a83e53e0",
        "colab": {
          "base_uri": "https://localhost:8080/",
          "height": 293
        }
      },
      "source": [
        "plt.plot(out - numba_kde_multithread2(eval_points, blob, b))"
      ],
      "execution_count": 36,
      "outputs": [
        {
          "output_type": "execute_result",
          "data": {
            "text/plain": [
              "[<matplotlib.lines.Line2D at 0x7f95a312ebe0>]"
            ]
          },
          "metadata": {
            "tags": []
          },
          "execution_count": 36
        },
        {
          "output_type": "display_data",
          "data": {
            "image/png": "[encoded data removed]",
            "text/plain": [
              "<Figure size 432x288 with 1 Axes>"
            ]
          },
          "metadata": {
            "tags": []
          }
        }
      ]
    },
    {
      "cell_type": "code",
      "metadata": {
        "id": "gaAAKprz_v0N",
        "colab_type": "code",
        "outputId": "bf6c834d-9318-4834-fb2f-ef0f0398eed4",
        "colab": {
          "base_uri": "https://localhost:8080/",
          "height": 293
        }
      },
      "source": [
        "plt.plot(out - np.exp(KernelDensity(bandwidth=b[0]).fit(blob).score_samples(eval_points)))"
      ],
      "execution_count": 37,
      "outputs": [
        {
          "output_type": "execute_result",
          "data": {
            "text/plain": [
              "[<matplotlib.lines.Line2D at 0x7f95a326f588>]"
            ]
          },
          "metadata": {
            "tags": []
          },
          "execution_count": 37
        },
        {
          "output_type": "display_data",
          "data": {
            "image/png": "[encoded data removed]",
            "text/plain": [
              "<Figure size 432x288 with 1 Axes>"
            ]
          },
          "metadata": {
            "tags": []
          }
        }
      ]
    },
    {
      "cell_type": "code",
      "metadata": {
        "id": "1Q4YxHJXA6s4",
        "colab_type": "code",
        "outputId": "a8bad087-07cc-4b13-c537-aa62a5075e6f",
        "colab": {
          "base_uri": "https://localhost:8080/",
          "height": 34
        }
      },
      "source": [
        "%timeit cuda.synchronize(); numba_kde_cuda2[blocks_per_grid, threads_per_block](eval_points, blob, b, out); cuda.synchronize()"
      ],
      "execution_count": 38,
      "outputs": [
        {
          "output_type": "stream",
          "text": [
            "10 loops, best of 3: 46.8 ms per loop\n"
          ],
          "name": "stdout"
        }
      ]
    },
    {
      "cell_type": "code",
      "metadata": {
        "id": "zadf3GzHB5H4",
        "colab_type": "code",
        "outputId": "a8441760-dc5f-4677-f566-22ecb2c0d670",
        "colab": {
          "base_uri": "https://localhost:8080/",
          "height": 34
        }
      },
      "source": [
        "%timeit KernelDensity(bandwidth=b[0]).fit(blob).score_samples(eval_points)"
      ],
      "execution_count": 39,
      "outputs": [
        {
          "output_type": "stream",
          "text": [
            "1 loop, best of 3: 1.42 s per loop\n"
          ],
          "name": "stdout"
        }
      ]
    },
    {
      "cell_type": "code",
      "metadata": {
        "id": "1CIF2sD6B5fx",
        "colab_type": "code",
        "outputId": "d4b6576a-c6db-4031-cd48-06e7b86b13f5",
        "colab": {
          "base_uri": "https://localhost:8080/",
          "height": 34
        }
      },
      "source": [
        "%timeit numba_kde_multithread2(eval_points, blob, b)"
      ],
      "execution_count": 40,
      "outputs": [
        {
          "output_type": "stream",
          "text": [
            "1 loop, best of 3: 2.96 s per loop\n"
          ],
          "name": "stdout"
        }
      ]
    },
    {
      "cell_type": "markdown",
      "metadata": {
        "id": "u6ZX_ylf-LYP",
        "colab_type": "text"
      },
      "source": [
        "## NUMBA CUDA GPU3\n",
        "+ Loop over all spikes and covariate bins\n",
        "+ Using atomic add"
      ]
    },
    {
      "cell_type": "code",
      "metadata": {
        "id": "y9IQx5oiDaEG",
        "colab_type": "code",
        "colab": {}
      },
      "source": [
        "@cuda.jit\n",
        "def numba_kde_cuda3(covariate_bins, marks, samples, bandwidths, out):\n",
        "    thread_id1, thread_id2, thread_id3 = cuda.grid(3)\n",
        "    stride1, stride2, stride3 = cuda.gridsize(3)\n",
        "\n",
        "    n_bins, n_cov = covariate_bins.shape\n",
        "    n_test, n_features = marks.shape\n",
        "    n_samples = samples.shape[0]\n",
        "\n",
        "    for test_ind in range(thread_id1, n_test, stride1):\n",
        "        for bin_ind in range(thread_id2, n_bins, stride2):\n",
        "            for sample_ind in range(thread_id3, n_samples, stride3):\n",
        "                diff = 1.0\n",
        "                \n",
        "                for cov_ind in range(n_cov):\n",
        "                    diff *= (gaussian_pdf(covariate_bins[bin_ind, cov_ind],\n",
        "                                          samples[sample_ind, cov_ind],\n",
        "                                          bandwidths[cov_ind])\n",
        "                             / bandwidths[cov_ind])\n",
        "\n",
        "                for feature_ind in range(n_features):\n",
        "                    diff *= (gaussian_pdf(marks[test_ind, feature_ind],\n",
        "                                          samples[sample_ind,\n",
        "                                                  n_cov + feature_ind],\n",
        "                                          bandwidths[n_cov + feature_ind])\n",
        "                             / bandwidths[n_cov + feature_ind])\n",
        "\n",
        "                diff /= n_samples\n",
        "                \n",
        "                cuda.atomic.add(out, (test_ind, bin_ind), diff)"
      ],
      "execution_count": 0,
      "outputs": []
    },
    {
      "cell_type": "code",
      "metadata": {
        "id": "pxT3ov_mRl2Y",
        "colab_type": "code",
        "colab": {}
      },
      "source": [
        "# n_samples, n_test = blob.shape[0], blob.shape[0]\n",
        "# n_bins, n_cov = grid.shape\n",
        "# n_marks = 4\n",
        "# out = np.zeros((n_test, n_bins))\n",
        "\n",
        "\n",
        "# threads_per_block = 4, 8, 4\n",
        "# blocks_per_grid_x = math.ceil(n_test / threads_per_block[0])\n",
        "# blocks_per_grid_y = math.ceil(n_bins / threads_per_block[1])\n",
        "# blocks_per_grid_z = math.ceil(n_samples / threads_per_block[2])\n",
        "# blocks_per_grid = blocks_per_grid_x, blocks_per_grid_y, blocks_per_grid_z\n",
        "\n",
        "\n",
        "# numba_kde_cuda3[blocks_per_grid, threads_per_block](grid, np.ascontiguousarray(blob[:n_test, n_cov:]), blob, b, out)"
      ],
      "execution_count": 0,
      "outputs": []
    },
    {
      "cell_type": "code",
      "metadata": {
        "id": "cB_3cjs3Tjvf",
        "colab_type": "code",
        "colab": {}
      },
      "source": [
        "# np.allclose(out[0], np.exp(KernelDensity(bandwidth=b[0]).fit(blob).score_samples(eval_points)))"
      ],
      "execution_count": 0,
      "outputs": []
    },
    {
      "cell_type": "code",
      "metadata": {
        "id": "veFh9nw7b2f_",
        "colab_type": "code",
        "colab": {}
      },
      "source": [
        "# plt.pcolormesh(x_grid, y_grid, out[0].reshape((50, 50)))"
      ],
      "execution_count": 0,
      "outputs": []
    },
    {
      "cell_type": "code",
      "metadata": {
        "id": "2CvnWLnPc-0A",
        "colab_type": "code",
        "colab": {}
      },
      "source": [
        "# %timeit cuda.synchronize(); numba_kde_cuda3[blocks_per_grid, threads_per_block](grid, np.ascontiguousarray(blob[:n_test, n_cov:]), blob, b, out); cuda.synchronize()"
      ],
      "execution_count": 0,
      "outputs": []
    },
    {
      "cell_type": "code",
      "metadata": {
        "id": "RsPsWbLqjxhj",
        "colab_type": "code",
        "colab": {}
      },
      "source": [
        "# import numba\n",
        "# import math\n",
        "\n",
        "# SQRT_2PI = np.float64(math.sqrt(2.0 * math.pi))\n",
        "\n",
        "# @numba.vectorize(['float64(float64, float64, float64)'], nopython=True, target='cpu')\n",
        "# def gaussian_pdf(x, mean, sigma):\n",
        "#     '''Compute the value of a Gaussian probability density function at x with given mean and sigma.'''\n",
        "#     return math.exp(-0.5 * ((x - mean) / sigma)**2) / (sigma * SQRT_2PI)\n",
        "\n",
        "\n",
        "# @numba.njit('float64[:, :](float64[:, :], float64[:, :], float64[:, :], float64[:])', parallel=True, fastmath=True)\n",
        "# def numba_kde_multithread3(covariate_bins, marks, samples, bandwidths):\n",
        "#     n_bins, n_cov = covariate_bins.shape\n",
        "#     n_test, n_features = marks.shape\n",
        "#     n_samples = samples.shape[0]\n",
        "#     result = np.zeros((n_test, n_bins))\n",
        "    \n",
        "#     for test_ind in numba.prange(n_test):\n",
        "#         for bin_ind in range(n_bins):\n",
        "#             for sample_ind in range(n_samples):\n",
        "#                 diff = 1.0\n",
        "                \n",
        "#                 for cov_ind in range(n_cov):\n",
        "#                     diff *= (gaussian_pdf(covariate_bins[bin_ind, cov_ind],\n",
        "#                                           samples[sample_ind, cov_ind],\n",
        "#                                           bandwidths[cov_ind])\n",
        "#                              / bandwidths[cov_ind])\n",
        "\n",
        "#                 for feature_ind in range(n_features):\n",
        "#                     diff *= (gaussian_pdf(marks[test_ind, feature_ind],\n",
        "#                                           samples[sample_ind,\n",
        "#                                                   n_cov + feature_ind],\n",
        "#                                           bandwidths[n_cov + feature_ind])\n",
        "#                              / bandwidths[n_cov + feature_ind])\n",
        "#                 result[test_ind, bin_ind] += diff / n_samples\n",
        "\n",
        "#     return result\n",
        "\n",
        "# n_samples, n_test = blob.shape[0], blob.shape[0]\n",
        "# n_bins, n_cov = grid.shape\n"
      ],
      "execution_count": 0,
      "outputs": []
    },
    {
      "cell_type": "code",
      "metadata": {
        "id": "sDDJ6rRvqY9y",
        "colab_type": "code",
        "colab": {}
      },
      "source": [
        "# result = numba_kde_multithread3(grid, np.ascontiguousarray(blob[:2, n_cov:]), blob, b)\n",
        "# np.allclose(result[0], np.exp(KernelDensity(bandwidth=b[0]).fit(blob).score_samples(eval_points)))"
      ],
      "execution_count": 0,
      "outputs": []
    },
    {
      "cell_type": "code",
      "metadata": {
        "id": "4yc1osbhrA_2",
        "colab_type": "code",
        "colab": {}
      },
      "source": [
        "# plt.plot(result[0] - np.exp(KernelDensity(bandwidth=b[0]).fit(blob).score_samples(eval_points)))"
      ],
      "execution_count": 0,
      "outputs": []
    },
    {
      "cell_type": "code",
      "metadata": {
        "id": "63i1JSBprvuo",
        "colab_type": "code",
        "colab": {}
      },
      "source": [
        "# fig, axes = plt.subplots(1, 2)\n",
        "# axes[0].pcolormesh(x_grid, y_grid, result[0].reshape((50, 50)))\n",
        "# axes[1].pcolormesh(x_grid, y_grid, np.exp(KernelDensity(bandwidth=b[0]).fit(blob).score_samples(eval_points)).reshape((50, 50)))"
      ],
      "execution_count": 0,
      "outputs": []
    },
    {
      "cell_type": "code",
      "metadata": {
        "id": "wQ1ikIwvpdZ8",
        "colab_type": "code",
        "colab": {}
      },
      "source": [
        "# %timeit numba_kde_multithread3(grid, np.ascontiguousarray(blob[:n_test, n_cov:]), blob, b)"
      ],
      "execution_count": 0,
      "outputs": []
    },
    {
      "cell_type": "markdown",
      "metadata": {
        "id": "0Ut1jVcg-rEp",
        "colab_type": "text"
      },
      "source": [
        "## NUMBA CUDA GPU 2a\n",
        "+ All eval points (one spike, all covariate bins)\n",
        "+ Avoid atomic add"
      ]
    },
    {
      "cell_type": "code",
      "metadata": {
        "id": "6TKECHpEWJd4",
        "colab_type": "code",
        "outputId": "1923dcea-dbd9-43f3-c392-94c7be205645",
        "colab": {
          "base_uri": "https://localhost:8080/",
          "height": 34
        }
      },
      "source": [
        "from numba import cuda\n",
        "import math\n",
        "\n",
        "SQRT_2PI = np.float32(math.sqrt(2.0 * math.pi))\n",
        "\n",
        "\n",
        "@cuda.jit(device=True, inline=True)\n",
        "def gaussian_pdf(x, mean, sigma):\n",
        "    '''Compute the value of a Gaussian probability density function at x with given mean and sigma.'''\n",
        "    return math.exp(-0.5 * ((x - mean) / sigma)**2) / (sigma * SQRT_2PI)\n",
        "\n",
        "\n",
        "@cuda.jit\n",
        "def numba_kde_cuda2a(eval_points, samples, bandwidths, out):\n",
        "  n_samples, n_bandwidths = samples.shape\n",
        "  thread_id = cuda.grid(1)\n",
        "  sum_kernel = 0.0\n",
        "\n",
        "  for sample_ind in range(n_samples):\n",
        "    product_kernel = 1.0\n",
        "    for bandwidth_ind in range(n_bandwidths):\n",
        "      product_kernel *= (\n",
        "            gaussian_pdf(eval_points[thread_id, bandwidth_ind],\n",
        "                         samples[sample_ind, bandwidth_ind],\n",
        "                         bandwidths[bandwidth_ind])\n",
        "            / bandwidths[bandwidth_ind])\n",
        "    sum_kernel += product_kernel\n",
        "\n",
        "  out[thread_id] = sum_kernel / n_samples\n",
        "  \n",
        "\n",
        "n_eval_points = eval_points.shape[0]\n",
        "threads_per_block = 64\n",
        "blocks_per_grid_x = math.ceil(n_eval_points / threads_per_block)\n",
        "blocks_per_grid = blocks_per_grid_x\n",
        "\n",
        "out = np.zeros((n_eval_points,), dtype=np.float32)\n",
        "numba_kde_cuda2a[blocks_per_grid, threads_per_block](eval_points, blob, b, out)\n",
        "np.allclose(numba_kde_multithread2(eval_points, blob, b), out)"
      ],
      "execution_count": 46,
      "outputs": [
        {
          "output_type": "execute_result",
          "data": {
            "text/plain": [
              "True"
            ]
          },
          "metadata": {
            "tags": []
          },
          "execution_count": 46
        }
      ]
    },
    {
      "cell_type": "code",
      "metadata": {
        "id": "zZqYMfv-ZfyN",
        "colab_type": "code",
        "outputId": "b4d6e853-21bc-4150-a1de-09f59c7390ca",
        "colab": {
          "base_uri": "https://localhost:8080/",
          "height": 34
        }
      },
      "source": [
        "%timeit cuda.synchronize(); numba_kde_cuda2a[blocks_per_grid, threads_per_block](eval_points, blob, b, out); cuda.synchronize()"
      ],
      "execution_count": 47,
      "outputs": [
        {
          "output_type": "stream",
          "text": [
            "1 loop, best of 3: 87.7 ms per loop\n"
          ],
          "name": "stdout"
        }
      ]
    },
    {
      "cell_type": "markdown",
      "metadata": {
        "id": "pf8oKftb_Jdu",
        "colab_type": "text"
      },
      "source": [
        "## NUMBA CUDA GPU 2b\n",
        "+ All eval points (one spike, all covariate bins)\n",
        "+ Avoid atomic add\n",
        "+ Use tiling"
      ]
    },
    {
      "cell_type": "code",
      "metadata": {
        "id": "NRLihmn5xRK7",
        "colab_type": "code",
        "colab": {}
      },
      "source": [
        ""
      ],
      "execution_count": 0,
      "outputs": []
    },
    {
      "cell_type": "markdown",
      "metadata": {
        "id": "5Xuld5npe_mF",
        "colab_type": "text"
      },
      "source": [
        "### Numba KDE CUDA GPU3a"
      ]
    },
    {
      "cell_type": "code",
      "metadata": {
        "id": "uWgbMd39FYtx",
        "colab_type": "code",
        "colab": {}
      },
      "source": [
        "from numba import cuda\n",
        "from numba.types import float64, float32\n",
        "import math\n",
        "\n",
        "SQRT_2PI = np.float32(math.sqrt(2.0 * math.pi))\n",
        "\n",
        "\n",
        "@cuda.jit(device=True, inline=True)\n",
        "def gaussian_pdf(x, mean, sigma):\n",
        "    '''Compute the value of a Gaussian probability density function at x with given mean and sigma.'''\n",
        "    return math.exp(-0.5 * ((x - mean) / sigma)**2) / (sigma * SQRT_2PI)\n",
        "\n",
        "\n",
        "TILE_SIZE = 64\n",
        "\n",
        "\n",
        "@cuda.jit\n",
        "def numba_kde_cuda2c(eval_points, samples, bandwidths, out, out2):\n",
        "    '''\n",
        "\n",
        "    Parameters\n",
        "    ----------\n",
        "    eval_points : ndarray, shape (n_eval, n_bandwidths)\n",
        "    samples : ndarray, shape (n_samples, n_bandwidths)\n",
        "    out : ndarray, shape (n_eval,)\n",
        "\n",
        "    '''\n",
        "    n_eval, n_bandwidths = eval_points.shape\n",
        "    n_samples = samples.shape[0]\n",
        "\n",
        "    thread_id1, thread_id2 = cuda.grid(2)\n",
        "\n",
        "    relative_thread_id1 = cuda.threadIdx.x\n",
        "    relative_thread_id2 = cuda.threadIdx.y\n",
        "    n_threads = cuda.blockDim.x\n",
        "\n",
        "    samples_tile = cuda.shared.array((TILE_SIZE, 6), float32)\n",
        "\n",
        "    sum_kernel = 0.0\n",
        "\n",
        "    for tile_ind in range(0, n_samples, TILE_SIZE):\n",
        "        tile_index = tile_ind * TILE_SIZE + relative_thread_id2\n",
        "\n",
        "        for i in range(0, TILE_SIZE, n_threads):\n",
        "          for bandwidth_ind in range(n_bandwidths):\n",
        "              samples_tile[relative_thread_id2 + i, bandwidth_ind] = samples[\n",
        "                  tile_index + i, bandwidth_ind]\n",
        "              out2[tile_index + i, bandwidth_ind] = samples[tile_index + i, bandwidth_ind]\n",
        "\n",
        "        cuda.syncthreads()\n",
        "\n",
        "        if tile_index < n_samples:\n",
        "            product_kernel = 1.0\n",
        "            for bandwidth_ind in range(n_bandwidths):\n",
        "                product_kernel *= (\n",
        "                    gaussian_pdf(eval_points[thread_id1, bandwidth_ind],\n",
        "                                 samples_tile[relative_thread_id2,\n",
        "                                              bandwidth_ind],\n",
        "                                 bandwidths[bandwidth_ind])\n",
        "                    / bandwidths[bandwidth_ind])\n",
        "            sum_kernel += product_kernel\n",
        "\n",
        "        cuda.syncthreads()\n",
        "\n",
        "    out[thread_id1] = sum_kernel / n_samples\n",
        "\n",
        "\n",
        "# Allocate shared memory dynamically by setting shape = 0 and\n",
        "#. kernel[grid_dim, block_dim, stream, dyn_shared_size](*kernel_args)\n",
        "# If not using streams use 0\n"
      ],
      "execution_count": 0,
      "outputs": []
    },
    {
      "cell_type": "code",
      "metadata": {
        "id": "VZD3s0oJmK5T",
        "colab_type": "code",
        "outputId": "2eabc1d9-dd1c-4ca6-d7ad-dfac4d265b4d",
        "colab": {
          "base_uri": "https://localhost:8080/",
          "height": 34
        }
      },
      "source": [
        "n_eval_points = eval_points.shape[0]\n",
        "out = np.zeros((n_eval_points,), dtype=np.float32)\n",
        "\n",
        "n_train, n_test = blob.shape[0], n_eval_points\n",
        "out2 = np.zeros((n_train, 6), dtype=np.float32)\n",
        "\n",
        "threads_per_block = 16, 16\n",
        "blocks_per_grid_x = math.ceil(n_test / threads_per_block[0])\n",
        "blocks_per_grid_y = math.ceil(n_train / threads_per_block[1])\n",
        "blocks_per_grid = blocks_per_grid_x, blocks_per_grid_y\n",
        "\n",
        "\n",
        "numba_kde_cuda2c[blocks_per_grid, threads_per_block](eval_points, blob, b, out, out2)\n",
        "result = numba_kde_multithread2(eval_points, blob, b)\n",
        "np.allclose(result, out)"
      ],
      "execution_count": 0,
      "outputs": [
        {
          "output_type": "execute_result",
          "data": {
            "text/plain": [
              "False"
            ]
          },
          "metadata": {
            "tags": []
          },
          "execution_count": 61
        }
      ]
    },
    {
      "cell_type": "code",
      "metadata": {
        "id": "Iam0_E0neTzB",
        "colab_type": "code",
        "outputId": "2ef72d79-bbe3-430d-e52c-cf0d2eef4d2c",
        "colab": {
          "base_uri": "https://localhost:8080/",
          "height": 286
        }
      },
      "source": [
        "plt.plot(result - out)"
      ],
      "execution_count": 0,
      "outputs": [
        {
          "output_type": "execute_result",
          "data": {
            "text/plain": [
              "[<matplotlib.lines.Line2D at 0x7fad06fcea58>]"
            ]
          },
          "metadata": {
            "tags": []
          },
          "execution_count": 48
        },
        {
          "output_type": "display_data",
          "data": {
            "image/png": "[encoded data removed]",
            "text/plain": [
              "<Figure size 432x288 with 1 Axes>"
            ]
          },
          "metadata": {
            "tags": []
          }
        }
      ]
    },
    {
      "cell_type": "code",
      "metadata": {
        "id": "z7Wyxbo0eccJ",
        "colab_type": "code",
        "outputId": "baf84fe2-b42c-4015-a294-930816d436ec",
        "colab": {
          "base_uri": "https://localhost:8080/",
          "height": 417
        }
      },
      "source": [
        "%timeit cuda.synchronize(); numba_kde_cuda2c[blocks_per_grid, threads_per_block](eval_points, blob, b, out); cuda.synchronize()"
      ],
      "execution_count": 0,
      "outputs": [
        {
          "output_type": "error",
          "ename": "TypeError",
          "evalue": "ignored",
          "traceback": [
            "\u001b[0;31m---------------------------------------------------------------------------\u001b[0m",
            "\u001b[0;31mTypeError\u001b[0m                                 Traceback (most recent call last)",
            "\u001b[0;32m<ipython-input-44-732a9800bb3d>\u001b[0m in \u001b[0;36m<module>\u001b[0;34m()\u001b[0m\n\u001b[0;32m----> 1\u001b[0;31m \u001b[0mget_ipython\u001b[0m\u001b[0;34m(\u001b[0m\u001b[0;34m)\u001b[0m\u001b[0;34m.\u001b[0m\u001b[0mmagic\u001b[0m\u001b[0;34m(\u001b[0m\u001b[0;34m'timeit cuda.synchronize(); numba_kde_cuda2c[blocks_per_grid, threads_per_block](eval_points, blob, b, out); cuda.synchronize()'\u001b[0m\u001b[0;34m)\u001b[0m\u001b[0;34m\u001b[0m\u001b[0;34m\u001b[0m\u001b[0m\n\u001b[0m",
            "\u001b[0;32m/usr/local/lib/python3.6/dist-packages/IPython/core/interactiveshell.py\u001b[0m in \u001b[0;36mmagic\u001b[0;34m(self, arg_s)\u001b[0m\n\u001b[1;32m   2158\u001b[0m         \u001b[0mmagic_name\u001b[0m\u001b[0;34m,\u001b[0m \u001b[0m_\u001b[0m\u001b[0;34m,\u001b[0m \u001b[0mmagic_arg_s\u001b[0m \u001b[0;34m=\u001b[0m \u001b[0marg_s\u001b[0m\u001b[0;34m.\u001b[0m\u001b[0mpartition\u001b[0m\u001b[0;34m(\u001b[0m\u001b[0;34m' '\u001b[0m\u001b[0;34m)\u001b[0m\u001b[0;34m\u001b[0m\u001b[0;34m\u001b[0m\u001b[0m\n\u001b[1;32m   2159\u001b[0m         \u001b[0mmagic_name\u001b[0m \u001b[0;34m=\u001b[0m \u001b[0mmagic_name\u001b[0m\u001b[0;34m.\u001b[0m\u001b[0mlstrip\u001b[0m\u001b[0;34m(\u001b[0m\u001b[0mprefilter\u001b[0m\u001b[0;34m.\u001b[0m\u001b[0mESC_MAGIC\u001b[0m\u001b[0;34m)\u001b[0m\u001b[0;34m\u001b[0m\u001b[0;34m\u001b[0m\u001b[0m\n\u001b[0;32m-> 2160\u001b[0;31m         \u001b[0;32mreturn\u001b[0m \u001b[0mself\u001b[0m\u001b[0;34m.\u001b[0m\u001b[0mrun_line_magic\u001b[0m\u001b[0;34m(\u001b[0m\u001b[0mmagic_name\u001b[0m\u001b[0;34m,\u001b[0m \u001b[0mmagic_arg_s\u001b[0m\u001b[0;34m)\u001b[0m\u001b[0;34m\u001b[0m\u001b[0;34m\u001b[0m\u001b[0m\n\u001b[0m\u001b[1;32m   2161\u001b[0m \u001b[0;34m\u001b[0m\u001b[0m\n\u001b[1;32m   2162\u001b[0m     \u001b[0;31m#-------------------------------------------------------------------------\u001b[0m\u001b[0;34m\u001b[0m\u001b[0;34m\u001b[0m\u001b[0;34m\u001b[0m\u001b[0m\n",
            "\u001b[0;32m/usr/local/lib/python3.6/dist-packages/IPython/core/interactiveshell.py\u001b[0m in \u001b[0;36mrun_line_magic\u001b[0;34m(self, magic_name, line)\u001b[0m\n\u001b[1;32m   2079\u001b[0m                 \u001b[0mkwargs\u001b[0m\u001b[0;34m[\u001b[0m\u001b[0;34m'local_ns'\u001b[0m\u001b[0;34m]\u001b[0m \u001b[0;34m=\u001b[0m \u001b[0msys\u001b[0m\u001b[0;34m.\u001b[0m\u001b[0m_getframe\u001b[0m\u001b[0;34m(\u001b[0m\u001b[0mstack_depth\u001b[0m\u001b[0;34m)\u001b[0m\u001b[0;34m.\u001b[0m\u001b[0mf_locals\u001b[0m\u001b[0;34m\u001b[0m\u001b[0;34m\u001b[0m\u001b[0m\n\u001b[1;32m   2080\u001b[0m             \u001b[0;32mwith\u001b[0m \u001b[0mself\u001b[0m\u001b[0;34m.\u001b[0m\u001b[0mbuiltin_trap\u001b[0m\u001b[0;34m:\u001b[0m\u001b[0;34m\u001b[0m\u001b[0;34m\u001b[0m\u001b[0m\n\u001b[0;32m-> 2081\u001b[0;31m                 \u001b[0mresult\u001b[0m \u001b[0;34m=\u001b[0m \u001b[0mfn\u001b[0m\u001b[0;34m(\u001b[0m\u001b[0;34m*\u001b[0m\u001b[0margs\u001b[0m\u001b[0;34m,\u001b[0m\u001b[0;34m**\u001b[0m\u001b[0mkwargs\u001b[0m\u001b[0;34m)\u001b[0m\u001b[0;34m\u001b[0m\u001b[0;34m\u001b[0m\u001b[0m\n\u001b[0m\u001b[1;32m   2082\u001b[0m             \u001b[0;32mreturn\u001b[0m \u001b[0mresult\u001b[0m\u001b[0;34m\u001b[0m\u001b[0;34m\u001b[0m\u001b[0m\n\u001b[1;32m   2083\u001b[0m \u001b[0;34m\u001b[0m\u001b[0m\n",
            "\u001b[0;32m</usr/local/lib/python3.6/dist-packages/decorator.py:decorator-gen-59>\u001b[0m in \u001b[0;36mtimeit\u001b[0;34m(self, line, cell)\u001b[0m\n",
            "\u001b[0;32m/usr/local/lib/python3.6/dist-packages/IPython/core/magic.py\u001b[0m in \u001b[0;36m<lambda>\u001b[0;34m(f, *a, **k)\u001b[0m\n\u001b[1;32m    186\u001b[0m     \u001b[0;31m# but it's overkill for just that one bit of state.\u001b[0m\u001b[0;34m\u001b[0m\u001b[0;34m\u001b[0m\u001b[0;34m\u001b[0m\u001b[0m\n\u001b[1;32m    187\u001b[0m     \u001b[0;32mdef\u001b[0m \u001b[0mmagic_deco\u001b[0m\u001b[0;34m(\u001b[0m\u001b[0marg\u001b[0m\u001b[0;34m)\u001b[0m\u001b[0;34m:\u001b[0m\u001b[0;34m\u001b[0m\u001b[0;34m\u001b[0m\u001b[0m\n\u001b[0;32m--> 188\u001b[0;31m         \u001b[0mcall\u001b[0m \u001b[0;34m=\u001b[0m \u001b[0;32mlambda\u001b[0m \u001b[0mf\u001b[0m\u001b[0;34m,\u001b[0m \u001b[0;34m*\u001b[0m\u001b[0ma\u001b[0m\u001b[0;34m,\u001b[0m \u001b[0;34m**\u001b[0m\u001b[0mk\u001b[0m\u001b[0;34m:\u001b[0m \u001b[0mf\u001b[0m\u001b[0;34m(\u001b[0m\u001b[0;34m*\u001b[0m\u001b[0ma\u001b[0m\u001b[0;34m,\u001b[0m \u001b[0;34m**\u001b[0m\u001b[0mk\u001b[0m\u001b[0;34m)\u001b[0m\u001b[0;34m\u001b[0m\u001b[0;34m\u001b[0m\u001b[0m\n\u001b[0m\u001b[1;32m    189\u001b[0m \u001b[0;34m\u001b[0m\u001b[0m\n\u001b[1;32m    190\u001b[0m         \u001b[0;32mif\u001b[0m \u001b[0mcallable\u001b[0m\u001b[0;34m(\u001b[0m\u001b[0marg\u001b[0m\u001b[0;34m)\u001b[0m\u001b[0;34m:\u001b[0m\u001b[0;34m\u001b[0m\u001b[0;34m\u001b[0m\u001b[0m\n",
            "\u001b[0;32m/usr/local/lib/python3.6/dist-packages/IPython/core/magics/execution.py\u001b[0m in \u001b[0;36mtimeit\u001b[0;34m(self, line, cell)\u001b[0m\n\u001b[1;32m   1055\u001b[0m             \u001b[0mnumber\u001b[0m \u001b[0;34m=\u001b[0m \u001b[0;36m1\u001b[0m\u001b[0;34m\u001b[0m\u001b[0;34m\u001b[0m\u001b[0m\n\u001b[1;32m   1056\u001b[0m             \u001b[0;32mfor\u001b[0m \u001b[0m_\u001b[0m \u001b[0;32min\u001b[0m \u001b[0mrange\u001b[0m\u001b[0;34m(\u001b[0m\u001b[0;36m1\u001b[0m\u001b[0;34m,\u001b[0m \u001b[0;36m10\u001b[0m\u001b[0;34m)\u001b[0m\u001b[0;34m:\u001b[0m\u001b[0;34m\u001b[0m\u001b[0;34m\u001b[0m\u001b[0m\n\u001b[0;32m-> 1057\u001b[0;31m                 \u001b[0mtime_number\u001b[0m \u001b[0;34m=\u001b[0m \u001b[0mtimer\u001b[0m\u001b[0;34m.\u001b[0m\u001b[0mtimeit\u001b[0m\u001b[0;34m(\u001b[0m\u001b[0mnumber\u001b[0m\u001b[0;34m)\u001b[0m\u001b[0;34m\u001b[0m\u001b[0;34m\u001b[0m\u001b[0m\n\u001b[0m\u001b[1;32m   1058\u001b[0m                 \u001b[0mworst_tuning\u001b[0m \u001b[0;34m=\u001b[0m \u001b[0mmax\u001b[0m\u001b[0;34m(\u001b[0m\u001b[0mworst_tuning\u001b[0m\u001b[0;34m,\u001b[0m \u001b[0mtime_number\u001b[0m \u001b[0;34m/\u001b[0m \u001b[0mnumber\u001b[0m\u001b[0;34m)\u001b[0m\u001b[0;34m\u001b[0m\u001b[0;34m\u001b[0m\u001b[0m\n\u001b[1;32m   1059\u001b[0m                 \u001b[0;32mif\u001b[0m \u001b[0mtime_number\u001b[0m \u001b[0;34m>=\u001b[0m \u001b[0;36m0.2\u001b[0m\u001b[0;34m:\u001b[0m\u001b[0;34m\u001b[0m\u001b[0;34m\u001b[0m\u001b[0m\n",
            "\u001b[0;32m/usr/local/lib/python3.6/dist-packages/IPython/core/magics/execution.py\u001b[0m in \u001b[0;36mtimeit\u001b[0;34m(self, number)\u001b[0m\n\u001b[1;32m    137\u001b[0m         \u001b[0mgc\u001b[0m\u001b[0;34m.\u001b[0m\u001b[0mdisable\u001b[0m\u001b[0;34m(\u001b[0m\u001b[0;34m)\u001b[0m\u001b[0;34m\u001b[0m\u001b[0;34m\u001b[0m\u001b[0m\n\u001b[1;32m    138\u001b[0m         \u001b[0;32mtry\u001b[0m\u001b[0;34m:\u001b[0m\u001b[0;34m\u001b[0m\u001b[0;34m\u001b[0m\u001b[0m\n\u001b[0;32m--> 139\u001b[0;31m             \u001b[0mtiming\u001b[0m \u001b[0;34m=\u001b[0m \u001b[0mself\u001b[0m\u001b[0;34m.\u001b[0m\u001b[0minner\u001b[0m\u001b[0;34m(\u001b[0m\u001b[0mit\u001b[0m\u001b[0;34m,\u001b[0m \u001b[0mself\u001b[0m\u001b[0;34m.\u001b[0m\u001b[0mtimer\u001b[0m\u001b[0;34m)\u001b[0m\u001b[0;34m\u001b[0m\u001b[0;34m\u001b[0m\u001b[0m\n\u001b[0m\u001b[1;32m    140\u001b[0m         \u001b[0;32mfinally\u001b[0m\u001b[0;34m:\u001b[0m\u001b[0;34m\u001b[0m\u001b[0;34m\u001b[0m\u001b[0m\n\u001b[1;32m    141\u001b[0m             \u001b[0;32mif\u001b[0m \u001b[0mgcold\u001b[0m\u001b[0;34m:\u001b[0m\u001b[0;34m\u001b[0m\u001b[0;34m\u001b[0m\u001b[0m\n",
            "\u001b[0;32m<magic-timeit>\u001b[0m in \u001b[0;36minner\u001b[0;34m(_it, _timer)\u001b[0m\n",
            "\u001b[0;32m/usr/local/lib/python3.6/dist-packages/numba/cuda/compiler.py\u001b[0m in \u001b[0;36m__call__\u001b[0;34m(self, *args)\u001b[0m\n\u001b[1;32m    751\u001b[0m         \u001b[0mSpecialize\u001b[0m \u001b[0;32mand\u001b[0m \u001b[0minvoke\u001b[0m \u001b[0mthis\u001b[0m \u001b[0mkernel\u001b[0m \u001b[0;32mwith\u001b[0m \u001b[0;34m*\u001b[0m\u001b[0margs\u001b[0m\u001b[0;34m*\u001b[0m\u001b[0;34m.\u001b[0m\u001b[0;34m\u001b[0m\u001b[0;34m\u001b[0m\u001b[0m\n\u001b[1;32m    752\u001b[0m         '''\n\u001b[0;32m--> 753\u001b[0;31m         \u001b[0mkernel\u001b[0m \u001b[0;34m=\u001b[0m \u001b[0mself\u001b[0m\u001b[0;34m.\u001b[0m\u001b[0mspecialize\u001b[0m\u001b[0;34m(\u001b[0m\u001b[0;34m*\u001b[0m\u001b[0margs\u001b[0m\u001b[0;34m)\u001b[0m\u001b[0;34m\u001b[0m\u001b[0;34m\u001b[0m\u001b[0m\n\u001b[0m\u001b[1;32m    754\u001b[0m         \u001b[0mcfg\u001b[0m \u001b[0;34m=\u001b[0m \u001b[0mkernel\u001b[0m\u001b[0;34m[\u001b[0m\u001b[0mself\u001b[0m\u001b[0;34m.\u001b[0m\u001b[0mgriddim\u001b[0m\u001b[0;34m,\u001b[0m \u001b[0mself\u001b[0m\u001b[0;34m.\u001b[0m\u001b[0mblockdim\u001b[0m\u001b[0;34m,\u001b[0m \u001b[0mself\u001b[0m\u001b[0;34m.\u001b[0m\u001b[0mstream\u001b[0m\u001b[0;34m,\u001b[0m \u001b[0mself\u001b[0m\u001b[0;34m.\u001b[0m\u001b[0msharedmem\u001b[0m\u001b[0;34m]\u001b[0m\u001b[0;34m\u001b[0m\u001b[0;34m\u001b[0m\u001b[0m\n\u001b[1;32m    755\u001b[0m         \u001b[0mcfg\u001b[0m\u001b[0;34m(\u001b[0m\u001b[0;34m*\u001b[0m\u001b[0margs\u001b[0m\u001b[0;34m)\u001b[0m\u001b[0;34m\u001b[0m\u001b[0;34m\u001b[0m\u001b[0m\n",
            "\u001b[0;32m/usr/local/lib/python3.6/dist-packages/numba/cuda/compiler.py\u001b[0m in \u001b[0;36mspecialize\u001b[0;34m(self, *args)\u001b[0m\n\u001b[1;32m    762\u001b[0m         argtypes = tuple(\n\u001b[1;32m    763\u001b[0m             [self.typingctx.resolve_argument_type(a) for a in args])\n\u001b[0;32m--> 764\u001b[0;31m         \u001b[0mkernel\u001b[0m \u001b[0;34m=\u001b[0m \u001b[0mself\u001b[0m\u001b[0;34m.\u001b[0m\u001b[0mcompile\u001b[0m\u001b[0;34m(\u001b[0m\u001b[0margtypes\u001b[0m\u001b[0;34m)\u001b[0m\u001b[0;34m\u001b[0m\u001b[0;34m\u001b[0m\u001b[0m\n\u001b[0m\u001b[1;32m    765\u001b[0m         \u001b[0;32mreturn\u001b[0m \u001b[0mkernel\u001b[0m\u001b[0;34m\u001b[0m\u001b[0;34m\u001b[0m\u001b[0m\n\u001b[1;32m    766\u001b[0m \u001b[0;34m\u001b[0m\u001b[0m\n",
            "\u001b[0;32m/usr/local/lib/python3.6/dist-packages/numba/cuda/compiler.py\u001b[0m in \u001b[0;36mcompile\u001b[0;34m(self, sig)\u001b[0m\n\u001b[1;32m    778\u001b[0m                 \u001b[0mself\u001b[0m\u001b[0;34m.\u001b[0m\u001b[0mtargetoptions\u001b[0m\u001b[0;34m[\u001b[0m\u001b[0;34m'link'\u001b[0m\u001b[0;34m]\u001b[0m \u001b[0;34m=\u001b[0m \u001b[0;34m(\u001b[0m\u001b[0;34m)\u001b[0m\u001b[0;34m\u001b[0m\u001b[0;34m\u001b[0m\u001b[0m\n\u001b[1;32m    779\u001b[0m             kernel = compile_kernel(self.py_func, argtypes,\n\u001b[0;32m--> 780\u001b[0;31m                                     **self.targetoptions)\n\u001b[0m\u001b[1;32m    781\u001b[0m             \u001b[0mself\u001b[0m\u001b[0;34m.\u001b[0m\u001b[0mdefinitions\u001b[0m\u001b[0;34m[\u001b[0m\u001b[0;34m(\u001b[0m\u001b[0mcc\u001b[0m\u001b[0;34m,\u001b[0m \u001b[0margtypes\u001b[0m\u001b[0;34m)\u001b[0m\u001b[0;34m]\u001b[0m \u001b[0;34m=\u001b[0m \u001b[0mkernel\u001b[0m\u001b[0;34m\u001b[0m\u001b[0;34m\u001b[0m\u001b[0m\n\u001b[1;32m    782\u001b[0m             \u001b[0;32mif\u001b[0m \u001b[0mself\u001b[0m\u001b[0;34m.\u001b[0m\u001b[0mbind\u001b[0m\u001b[0;34m:\u001b[0m\u001b[0;34m\u001b[0m\u001b[0;34m\u001b[0m\u001b[0m\n",
            "\u001b[0;32m/usr/local/lib/python3.6/dist-packages/numba/compiler_lock.py\u001b[0m in \u001b[0;36m_acquire_compile_lock\u001b[0;34m(*args, **kwargs)\u001b[0m\n\u001b[1;32m     30\u001b[0m         \u001b[0;32mdef\u001b[0m \u001b[0m_acquire_compile_lock\u001b[0m\u001b[0;34m(\u001b[0m\u001b[0;34m*\u001b[0m\u001b[0margs\u001b[0m\u001b[0;34m,\u001b[0m \u001b[0;34m**\u001b[0m\u001b[0mkwargs\u001b[0m\u001b[0;34m)\u001b[0m\u001b[0;34m:\u001b[0m\u001b[0;34m\u001b[0m\u001b[0;34m\u001b[0m\u001b[0m\n\u001b[1;32m     31\u001b[0m             \u001b[0;32mwith\u001b[0m \u001b[0mself\u001b[0m\u001b[0;34m:\u001b[0m\u001b[0;34m\u001b[0m\u001b[0;34m\u001b[0m\u001b[0m\n\u001b[0;32m---> 32\u001b[0;31m                 \u001b[0;32mreturn\u001b[0m \u001b[0mfunc\u001b[0m\u001b[0;34m(\u001b[0m\u001b[0;34m*\u001b[0m\u001b[0margs\u001b[0m\u001b[0;34m,\u001b[0m \u001b[0;34m**\u001b[0m\u001b[0mkwargs\u001b[0m\u001b[0;34m)\u001b[0m\u001b[0;34m\u001b[0m\u001b[0;34m\u001b[0m\u001b[0m\n\u001b[0m\u001b[1;32m     33\u001b[0m         \u001b[0;32mreturn\u001b[0m \u001b[0m_acquire_compile_lock\u001b[0m\u001b[0;34m\u001b[0m\u001b[0;34m\u001b[0m\u001b[0m\n\u001b[1;32m     34\u001b[0m \u001b[0;34m\u001b[0m\u001b[0m\n",
            "\u001b[0;32m/usr/local/lib/python3.6/dist-packages/numba/cuda/compiler.py\u001b[0m in \u001b[0;36mcompile_kernel\u001b[0;34m(pyfunc, args, link, debug, inline, fastmath, extensions)\u001b[0m\n\u001b[1;32m     59\u001b[0m def compile_kernel(pyfunc, args, link, debug=False, inline=False,\n\u001b[1;32m     60\u001b[0m                    fastmath=False, extensions=[]):\n\u001b[0;32m---> 61\u001b[0;31m     \u001b[0mcres\u001b[0m \u001b[0;34m=\u001b[0m \u001b[0mcompile_cuda\u001b[0m\u001b[0;34m(\u001b[0m\u001b[0mpyfunc\u001b[0m\u001b[0;34m,\u001b[0m \u001b[0mtypes\u001b[0m\u001b[0;34m.\u001b[0m\u001b[0mvoid\u001b[0m\u001b[0;34m,\u001b[0m \u001b[0margs\u001b[0m\u001b[0;34m,\u001b[0m \u001b[0mdebug\u001b[0m\u001b[0;34m=\u001b[0m\u001b[0mdebug\u001b[0m\u001b[0;34m,\u001b[0m \u001b[0minline\u001b[0m\u001b[0;34m=\u001b[0m\u001b[0minline\u001b[0m\u001b[0;34m)\u001b[0m\u001b[0;34m\u001b[0m\u001b[0;34m\u001b[0m\u001b[0m\n\u001b[0m\u001b[1;32m     62\u001b[0m     \u001b[0mfname\u001b[0m \u001b[0;34m=\u001b[0m \u001b[0mcres\u001b[0m\u001b[0;34m.\u001b[0m\u001b[0mfndesc\u001b[0m\u001b[0;34m.\u001b[0m\u001b[0mllvm_func_name\u001b[0m\u001b[0;34m\u001b[0m\u001b[0;34m\u001b[0m\u001b[0m\n\u001b[1;32m     63\u001b[0m     lib, kernel = cres.target_context.prepare_cuda_kernel(cres.library, fname,\n",
            "\u001b[0;32m/usr/local/lib/python3.6/dist-packages/numba/compiler_lock.py\u001b[0m in \u001b[0;36m_acquire_compile_lock\u001b[0;34m(*args, **kwargs)\u001b[0m\n\u001b[1;32m     30\u001b[0m         \u001b[0;32mdef\u001b[0m \u001b[0m_acquire_compile_lock\u001b[0m\u001b[0;34m(\u001b[0m\u001b[0;34m*\u001b[0m\u001b[0margs\u001b[0m\u001b[0;34m,\u001b[0m \u001b[0;34m**\u001b[0m\u001b[0mkwargs\u001b[0m\u001b[0;34m)\u001b[0m\u001b[0;34m:\u001b[0m\u001b[0;34m\u001b[0m\u001b[0;34m\u001b[0m\u001b[0m\n\u001b[1;32m     31\u001b[0m             \u001b[0;32mwith\u001b[0m \u001b[0mself\u001b[0m\u001b[0;34m:\u001b[0m\u001b[0;34m\u001b[0m\u001b[0;34m\u001b[0m\u001b[0m\n\u001b[0;32m---> 32\u001b[0;31m                 \u001b[0;32mreturn\u001b[0m \u001b[0mfunc\u001b[0m\u001b[0;34m(\u001b[0m\u001b[0;34m*\u001b[0m\u001b[0margs\u001b[0m\u001b[0;34m,\u001b[0m \u001b[0;34m**\u001b[0m\u001b[0mkwargs\u001b[0m\u001b[0;34m)\u001b[0m\u001b[0;34m\u001b[0m\u001b[0;34m\u001b[0m\u001b[0m\n\u001b[0m\u001b[1;32m     33\u001b[0m         \u001b[0;32mreturn\u001b[0m \u001b[0m_acquire_compile_lock\u001b[0m\u001b[0;34m\u001b[0m\u001b[0;34m\u001b[0m\u001b[0m\n\u001b[1;32m     34\u001b[0m \u001b[0;34m\u001b[0m\u001b[0m\n",
            "\u001b[0;32m/usr/local/lib/python3.6/dist-packages/numba/cuda/compiler.py\u001b[0m in \u001b[0;36mcompile_cuda\u001b[0;34m(pyfunc, return_type, args, debug, inline)\u001b[0m\n\u001b[1;32m     48\u001b[0m                                   \u001b[0mreturn_type\u001b[0m\u001b[0;34m=\u001b[0m\u001b[0mreturn_type\u001b[0m\u001b[0;34m,\u001b[0m\u001b[0;34m\u001b[0m\u001b[0;34m\u001b[0m\u001b[0m\n\u001b[1;32m     49\u001b[0m                                   \u001b[0mflags\u001b[0m\u001b[0;34m=\u001b[0m\u001b[0mflags\u001b[0m\u001b[0;34m,\u001b[0m\u001b[0;34m\u001b[0m\u001b[0;34m\u001b[0m\u001b[0m\n\u001b[0;32m---> 50\u001b[0;31m                                   locals={})\n\u001b[0m\u001b[1;32m     51\u001b[0m \u001b[0;34m\u001b[0m\u001b[0m\n\u001b[1;32m     52\u001b[0m     \u001b[0mlibrary\u001b[0m \u001b[0;34m=\u001b[0m \u001b[0mcres\u001b[0m\u001b[0;34m.\u001b[0m\u001b[0mlibrary\u001b[0m\u001b[0;34m\u001b[0m\u001b[0;34m\u001b[0m\u001b[0m\n",
            "\u001b[0;32m/usr/local/lib/python3.6/dist-packages/numba/compiler.py\u001b[0m in \u001b[0;36mcompile_extra\u001b[0;34m(typingctx, targetctx, func, args, return_type, flags, locals, library, pipeline_class)\u001b[0m\n\u001b[1;32m    902\u001b[0m     pipeline = pipeline_class(typingctx, targetctx, library,\n\u001b[1;32m    903\u001b[0m                               args, return_type, flags, locals)\n\u001b[0;32m--> 904\u001b[0;31m     \u001b[0;32mreturn\u001b[0m \u001b[0mpipeline\u001b[0m\u001b[0;34m.\u001b[0m\u001b[0mcompile_extra\u001b[0m\u001b[0;34m(\u001b[0m\u001b[0mfunc\u001b[0m\u001b[0;34m)\u001b[0m\u001b[0;34m\u001b[0m\u001b[0;34m\u001b[0m\u001b[0m\n\u001b[0m\u001b[1;32m    905\u001b[0m \u001b[0;34m\u001b[0m\u001b[0m\n\u001b[1;32m    906\u001b[0m \u001b[0;34m\u001b[0m\u001b[0m\n",
            "\u001b[0;32m/usr/local/lib/python3.6/dist-packages/numba/compiler.py\u001b[0m in \u001b[0;36mcompile_extra\u001b[0;34m(self, func)\u001b[0m\n\u001b[1;32m    365\u001b[0m         \u001b[0mself\u001b[0m\u001b[0;34m.\u001b[0m\u001b[0mlifted\u001b[0m \u001b[0;34m=\u001b[0m \u001b[0;34m(\u001b[0m\u001b[0;34m)\u001b[0m\u001b[0;34m\u001b[0m\u001b[0;34m\u001b[0m\u001b[0m\n\u001b[1;32m    366\u001b[0m         \u001b[0mself\u001b[0m\u001b[0;34m.\u001b[0m\u001b[0mlifted_from\u001b[0m \u001b[0;34m=\u001b[0m \u001b[0;32mNone\u001b[0m\u001b[0;34m\u001b[0m\u001b[0;34m\u001b[0m\u001b[0m\n\u001b[0;32m--> 367\u001b[0;31m         \u001b[0;32mreturn\u001b[0m \u001b[0mself\u001b[0m\u001b[0;34m.\u001b[0m\u001b[0m_compile_bytecode\u001b[0m\u001b[0;34m(\u001b[0m\u001b[0;34m)\u001b[0m\u001b[0;34m\u001b[0m\u001b[0;34m\u001b[0m\u001b[0m\n\u001b[0m\u001b[1;32m    368\u001b[0m \u001b[0;34m\u001b[0m\u001b[0m\n\u001b[1;32m    369\u001b[0m     \u001b[0;32mdef\u001b[0m \u001b[0mcompile_ir\u001b[0m\u001b[0;34m(\u001b[0m\u001b[0mself\u001b[0m\u001b[0;34m,\u001b[0m \u001b[0mfunc_ir\u001b[0m\u001b[0;34m,\u001b[0m \u001b[0mlifted\u001b[0m\u001b[0;34m=\u001b[0m\u001b[0;34m(\u001b[0m\u001b[0;34m)\u001b[0m\u001b[0;34m,\u001b[0m \u001b[0mlifted_from\u001b[0m\u001b[0;34m=\u001b[0m\u001b[0;32mNone\u001b[0m\u001b[0;34m)\u001b[0m\u001b[0;34m:\u001b[0m\u001b[0;34m\u001b[0m\u001b[0;34m\u001b[0m\u001b[0m\n",
            "\u001b[0;32m/usr/local/lib/python3.6/dist-packages/numba/compiler.py\u001b[0m in \u001b[0;36m_compile_bytecode\u001b[0;34m(self)\u001b[0m\n\u001b[1;32m    833\u001b[0m         \"\"\"\n\u001b[1;32m    834\u001b[0m         \u001b[0;32massert\u001b[0m \u001b[0mself\u001b[0m\u001b[0;34m.\u001b[0m\u001b[0mfunc_ir\u001b[0m \u001b[0;32mis\u001b[0m \u001b[0;32mNone\u001b[0m\u001b[0;34m\u001b[0m\u001b[0;34m\u001b[0m\u001b[0m\n\u001b[0;32m--> 835\u001b[0;31m         \u001b[0;32mreturn\u001b[0m \u001b[0mself\u001b[0m\u001b[0;34m.\u001b[0m\u001b[0m_compile_core\u001b[0m\u001b[0;34m(\u001b[0m\u001b[0;34m)\u001b[0m\u001b[0;34m\u001b[0m\u001b[0;34m\u001b[0m\u001b[0m\n\u001b[0m\u001b[1;32m    836\u001b[0m \u001b[0;34m\u001b[0m\u001b[0m\n\u001b[1;32m    837\u001b[0m     \u001b[0;32mdef\u001b[0m \u001b[0m_compile_ir\u001b[0m\u001b[0;34m(\u001b[0m\u001b[0mself\u001b[0m\u001b[0;34m)\u001b[0m\u001b[0;34m:\u001b[0m\u001b[0;34m\u001b[0m\u001b[0;34m\u001b[0m\u001b[0m\n",
            "\u001b[0;32m/usr/local/lib/python3.6/dist-packages/numba/compiler.py\u001b[0m in \u001b[0;36m_compile_core\u001b[0;34m(self)\u001b[0m\n\u001b[1;32m    820\u001b[0m         \u001b[0mself\u001b[0m\u001b[0;34m.\u001b[0m\u001b[0mdefine_pipelines\u001b[0m\u001b[0;34m(\u001b[0m\u001b[0mpm\u001b[0m\u001b[0;34m)\u001b[0m\u001b[0;34m\u001b[0m\u001b[0;34m\u001b[0m\u001b[0m\n\u001b[1;32m    821\u001b[0m         \u001b[0mpm\u001b[0m\u001b[0;34m.\u001b[0m\u001b[0mfinalize\u001b[0m\u001b[0;34m(\u001b[0m\u001b[0;34m)\u001b[0m\u001b[0;34m\u001b[0m\u001b[0;34m\u001b[0m\u001b[0m\n\u001b[0;32m--> 822\u001b[0;31m         \u001b[0mres\u001b[0m \u001b[0;34m=\u001b[0m \u001b[0mpm\u001b[0m\u001b[0;34m.\u001b[0m\u001b[0mrun\u001b[0m\u001b[0;34m(\u001b[0m\u001b[0mself\u001b[0m\u001b[0;34m.\u001b[0m\u001b[0mstatus\u001b[0m\u001b[0;34m)\u001b[0m\u001b[0;34m\u001b[0m\u001b[0;34m\u001b[0m\u001b[0m\n\u001b[0m\u001b[1;32m    823\u001b[0m         \u001b[0;32mif\u001b[0m \u001b[0mres\u001b[0m \u001b[0;32mis\u001b[0m \u001b[0;32mnot\u001b[0m \u001b[0;32mNone\u001b[0m\u001b[0;34m:\u001b[0m\u001b[0;34m\u001b[0m\u001b[0;34m\u001b[0m\u001b[0m\n\u001b[1;32m    824\u001b[0m             \u001b[0;31m# Early pipeline completion\u001b[0m\u001b[0;34m\u001b[0m\u001b[0;34m\u001b[0m\u001b[0;34m\u001b[0m\u001b[0m\n",
            "\u001b[0;32m/usr/local/lib/python3.6/dist-packages/numba/compiler_lock.py\u001b[0m in \u001b[0;36m_acquire_compile_lock\u001b[0;34m(*args, **kwargs)\u001b[0m\n\u001b[1;32m     30\u001b[0m         \u001b[0;32mdef\u001b[0m \u001b[0m_acquire_compile_lock\u001b[0m\u001b[0;34m(\u001b[0m\u001b[0;34m*\u001b[0m\u001b[0margs\u001b[0m\u001b[0;34m,\u001b[0m \u001b[0;34m**\u001b[0m\u001b[0mkwargs\u001b[0m\u001b[0;34m)\u001b[0m\u001b[0;34m:\u001b[0m\u001b[0;34m\u001b[0m\u001b[0;34m\u001b[0m\u001b[0m\n\u001b[1;32m     31\u001b[0m             \u001b[0;32mwith\u001b[0m \u001b[0mself\u001b[0m\u001b[0;34m:\u001b[0m\u001b[0;34m\u001b[0m\u001b[0;34m\u001b[0m\u001b[0m\n\u001b[0;32m---> 32\u001b[0;31m                 \u001b[0;32mreturn\u001b[0m \u001b[0mfunc\u001b[0m\u001b[0;34m(\u001b[0m\u001b[0;34m*\u001b[0m\u001b[0margs\u001b[0m\u001b[0;34m,\u001b[0m \u001b[0;34m**\u001b[0m\u001b[0mkwargs\u001b[0m\u001b[0;34m)\u001b[0m\u001b[0;34m\u001b[0m\u001b[0;34m\u001b[0m\u001b[0m\n\u001b[0m\u001b[1;32m     33\u001b[0m         \u001b[0;32mreturn\u001b[0m \u001b[0m_acquire_compile_lock\u001b[0m\u001b[0;34m\u001b[0m\u001b[0;34m\u001b[0m\u001b[0m\n\u001b[1;32m     34\u001b[0m \u001b[0;34m\u001b[0m\u001b[0m\n",
            "\u001b[0;32m/usr/local/lib/python3.6/dist-packages/numba/compiler.py\u001b[0m in \u001b[0;36mrun\u001b[0;34m(self, status)\u001b[0m\n\u001b[1;32m    251\u001b[0m                     \u001b[0;31m# No more fallback pipelines?\u001b[0m\u001b[0;34m\u001b[0m\u001b[0;34m\u001b[0m\u001b[0;34m\u001b[0m\u001b[0m\n\u001b[1;32m    252\u001b[0m                     \u001b[0;32mif\u001b[0m \u001b[0mis_final_pipeline\u001b[0m\u001b[0;34m:\u001b[0m\u001b[0;34m\u001b[0m\u001b[0;34m\u001b[0m\u001b[0m\n\u001b[0;32m--> 253\u001b[0;31m                         \u001b[0;32mraise\u001b[0m \u001b[0mpatched_exception\u001b[0m\u001b[0;34m\u001b[0m\u001b[0;34m\u001b[0m\u001b[0m\n\u001b[0m\u001b[1;32m    254\u001b[0m                     \u001b[0;31m# Go to next fallback pipeline\u001b[0m\u001b[0;34m\u001b[0m\u001b[0;34m\u001b[0m\u001b[0;34m\u001b[0m\u001b[0m\n\u001b[1;32m    255\u001b[0m                     \u001b[0;32melse\u001b[0m\u001b[0;34m:\u001b[0m\u001b[0;34m\u001b[0m\u001b[0;34m\u001b[0m\u001b[0m\n",
            "\u001b[0;32m/usr/local/lib/python3.6/dist-packages/numba/compiler.py\u001b[0m in \u001b[0;36mrun\u001b[0;34m(self, status)\u001b[0m\n\u001b[1;32m    242\u001b[0m                 \u001b[0;32mtry\u001b[0m\u001b[0;34m:\u001b[0m\u001b[0;34m\u001b[0m\u001b[0;34m\u001b[0m\u001b[0m\n\u001b[1;32m    243\u001b[0m                     \u001b[0mevent\u001b[0m\u001b[0;34m(\u001b[0m\u001b[0mstage_name\u001b[0m\u001b[0;34m)\u001b[0m\u001b[0;34m\u001b[0m\u001b[0;34m\u001b[0m\u001b[0m\n\u001b[0;32m--> 244\u001b[0;31m                     \u001b[0mstage\u001b[0m\u001b[0;34m(\u001b[0m\u001b[0;34m)\u001b[0m\u001b[0;34m\u001b[0m\u001b[0;34m\u001b[0m\u001b[0m\n\u001b[0m\u001b[1;32m    245\u001b[0m                 \u001b[0;32mexcept\u001b[0m \u001b[0m_EarlyPipelineCompletion\u001b[0m \u001b[0;32mas\u001b[0m \u001b[0me\u001b[0m\u001b[0;34m:\u001b[0m\u001b[0;34m\u001b[0m\u001b[0;34m\u001b[0m\u001b[0m\n\u001b[1;32m    246\u001b[0m                     \u001b[0;32mreturn\u001b[0m \u001b[0me\u001b[0m\u001b[0;34m.\u001b[0m\u001b[0mresult\u001b[0m\u001b[0;34m\u001b[0m\u001b[0;34m\u001b[0m\u001b[0m\n",
            "\u001b[0;32m/usr/local/lib/python3.6/dist-packages/numba/compiler.py\u001b[0m in \u001b[0;36mstage_analyze_bytecode\u001b[0;34m(self)\u001b[0m\n\u001b[1;32m    380\u001b[0m         \"\"\"\n\u001b[1;32m    381\u001b[0m         \u001b[0mfunc_ir\u001b[0m \u001b[0;34m=\u001b[0m \u001b[0mtranslate_stage\u001b[0m\u001b[0;34m(\u001b[0m\u001b[0mself\u001b[0m\u001b[0;34m.\u001b[0m\u001b[0mfunc_id\u001b[0m\u001b[0;34m,\u001b[0m \u001b[0mself\u001b[0m\u001b[0;34m.\u001b[0m\u001b[0mbc\u001b[0m\u001b[0;34m)\u001b[0m\u001b[0;34m\u001b[0m\u001b[0;34m\u001b[0m\u001b[0m\n\u001b[0;32m--> 382\u001b[0;31m         \u001b[0mself\u001b[0m\u001b[0;34m.\u001b[0m\u001b[0m_set_and_check_ir\u001b[0m\u001b[0;34m(\u001b[0m\u001b[0mfunc_ir\u001b[0m\u001b[0;34m)\u001b[0m\u001b[0;34m\u001b[0m\u001b[0;34m\u001b[0m\u001b[0m\n\u001b[0m\u001b[1;32m    383\u001b[0m \u001b[0;34m\u001b[0m\u001b[0m\n\u001b[1;32m    384\u001b[0m     \u001b[0;32mdef\u001b[0m \u001b[0m_set_and_check_ir\u001b[0m\u001b[0;34m(\u001b[0m\u001b[0mself\u001b[0m\u001b[0;34m,\u001b[0m \u001b[0mfunc_ir\u001b[0m\u001b[0;34m)\u001b[0m\u001b[0;34m:\u001b[0m\u001b[0;34m\u001b[0m\u001b[0;34m\u001b[0m\u001b[0m\n",
            "\u001b[0;32m/usr/local/lib/python3.6/dist-packages/numba/compiler.py\u001b[0m in \u001b[0;36m_set_and_check_ir\u001b[0;34m(self, func_ir)\u001b[0m\n\u001b[1;32m    392\u001b[0m             raise TypeError(\"Signature mismatch: %d argument types given, \"\n\u001b[1;32m    393\u001b[0m                             \u001b[0;34m\"but function takes %d arguments\"\u001b[0m\u001b[0;34m\u001b[0m\u001b[0;34m\u001b[0m\u001b[0m\n\u001b[0;32m--> 394\u001b[0;31m                             % (len(self.args), self.nargs))\n\u001b[0m\u001b[1;32m    395\u001b[0m \u001b[0;34m\u001b[0m\u001b[0m\n\u001b[1;32m    396\u001b[0m     \u001b[0;32mdef\u001b[0m \u001b[0mstage_process_ir\u001b[0m\u001b[0;34m(\u001b[0m\u001b[0mself\u001b[0m\u001b[0;34m)\u001b[0m\u001b[0;34m:\u001b[0m\u001b[0;34m\u001b[0m\u001b[0;34m\u001b[0m\u001b[0m\n",
            "\u001b[0;31mTypeError\u001b[0m: Failed in nopython mode pipeline (step: analyzing bytecode)\nSignature mismatch: 4 argument types given, but function takes 5 arguments"
          ]
        }
      ]
    },
    {
      "cell_type": "code",
      "metadata": {
        "id": "b_2STlSsmM57",
        "colab_type": "code",
        "colab": {}
      },
      "source": [
        "np.nonzero(out2.sum(axis=1))[0]"
      ],
      "execution_count": 0,
      "outputs": []
    },
    {
      "cell_type": "code",
      "metadata": {
        "id": "7VcMCANImNcH",
        "colab_type": "code",
        "outputId": "0efa0105-eb35-416c-9b2e-c88b9f2a0ac0",
        "colab": {
          "base_uri": "https://localhost:8080/",
          "height": 286
        }
      },
      "source": [
        "plt.plot(out2[:128, 0])\n",
        "plt.plot(out2[:128, 1])"
      ],
      "execution_count": 0,
      "outputs": [
        {
          "output_type": "execute_result",
          "data": {
            "text/plain": [
              "[<matplotlib.lines.Line2D at 0x7fad06c66cc0>]"
            ]
          },
          "metadata": {
            "tags": []
          },
          "execution_count": 63
        },
        {
          "output_type": "display_data",
          "data": {
            "image/png": "[encoded data removed]",
            "text/plain": [
              "<Figure size 432x288 with 1 Axes>"
            ]
          },
          "metadata": {
            "tags": []
          }
        }
      ]
    },
    {
      "cell_type": "code",
      "metadata": {
        "id": "GSzAM9ssmiy-",
        "colab_type": "code",
        "outputId": "61d27796-9349-480e-b6de-c95d8530e43f",
        "colab": {
          "base_uri": "https://localhost:8080/",
          "height": 2257
        }
      },
      "source": [
        "out2[:128]"
      ],
      "execution_count": 0,
      "outputs": [
        {
          "output_type": "execute_result",
          "data": {
            "text/plain": [
              "array([[0.000e+00, 9.990e+03, 0.000e+00, 0.000e+00, 0.000e+00, 0.000e+00],\n",
              "       [1.000e+00, 9.990e+03, 0.000e+00, 0.000e+00, 0.000e+00, 0.000e+00],\n",
              "       [2.000e+00, 9.990e+03, 0.000e+00, 0.000e+00, 0.000e+00, 0.000e+00],\n",
              "       [3.000e+00, 9.990e+03, 0.000e+00, 0.000e+00, 0.000e+00, 0.000e+00],\n",
              "       [4.000e+00, 9.990e+03, 0.000e+00, 0.000e+00, 0.000e+00, 0.000e+00],\n",
              "       [5.000e+00, 9.990e+03, 0.000e+00, 0.000e+00, 0.000e+00, 0.000e+00],\n",
              "       [6.000e+00, 9.990e+03, 0.000e+00, 0.000e+00, 0.000e+00, 0.000e+00],\n",
              "       [7.000e+00, 9.990e+03, 0.000e+00, 0.000e+00, 0.000e+00, 0.000e+00],\n",
              "       [8.000e+00, 9.990e+03, 0.000e+00, 0.000e+00, 0.000e+00, 0.000e+00],\n",
              "       [9.000e+00, 9.990e+03, 0.000e+00, 0.000e+00, 0.000e+00, 0.000e+00],\n",
              "       [1.000e+01, 9.990e+03, 0.000e+00, 0.000e+00, 0.000e+00, 0.000e+00],\n",
              "       [1.100e+01, 9.990e+03, 0.000e+00, 0.000e+00, 0.000e+00, 0.000e+00],\n",
              "       [1.200e+01, 9.990e+03, 0.000e+00, 0.000e+00, 0.000e+00, 0.000e+00],\n",
              "       [1.300e+01, 9.990e+03, 0.000e+00, 0.000e+00, 0.000e+00, 0.000e+00],\n",
              "       [1.400e+01, 9.990e+03, 0.000e+00, 0.000e+00, 0.000e+00, 0.000e+00],\n",
              "       [1.500e+01, 9.990e+03, 0.000e+00, 0.000e+00, 0.000e+00, 0.000e+00],\n",
              "       [1.600e+01, 9.986e+03, 0.000e+00, 0.000e+00, 0.000e+00, 0.000e+00],\n",
              "       [1.700e+01, 9.986e+03, 0.000e+00, 0.000e+00, 0.000e+00, 0.000e+00],\n",
              "       [1.800e+01, 9.986e+03, 0.000e+00, 0.000e+00, 0.000e+00, 0.000e+00],\n",
              "       [1.900e+01, 9.986e+03, 0.000e+00, 0.000e+00, 0.000e+00, 0.000e+00],\n",
              "       [2.000e+01, 9.986e+03, 0.000e+00, 0.000e+00, 0.000e+00, 0.000e+00],\n",
              "       [2.100e+01, 9.986e+03, 0.000e+00, 0.000e+00, 0.000e+00, 0.000e+00],\n",
              "       [2.200e+01, 9.986e+03, 0.000e+00, 0.000e+00, 0.000e+00, 0.000e+00],\n",
              "       [2.300e+01, 9.986e+03, 0.000e+00, 0.000e+00, 0.000e+00, 0.000e+00],\n",
              "       [2.400e+01, 9.986e+03, 0.000e+00, 0.000e+00, 0.000e+00, 0.000e+00],\n",
              "       [2.500e+01, 9.986e+03, 0.000e+00, 0.000e+00, 0.000e+00, 0.000e+00],\n",
              "       [2.600e+01, 9.986e+03, 0.000e+00, 0.000e+00, 0.000e+00, 0.000e+00],\n",
              "       [2.700e+01, 9.986e+03, 0.000e+00, 0.000e+00, 0.000e+00, 0.000e+00],\n",
              "       [2.800e+01, 9.986e+03, 0.000e+00, 0.000e+00, 0.000e+00, 0.000e+00],\n",
              "       [2.900e+01, 9.986e+03, 0.000e+00, 0.000e+00, 0.000e+00, 0.000e+00],\n",
              "       [3.000e+01, 9.986e+03, 0.000e+00, 0.000e+00, 0.000e+00, 0.000e+00],\n",
              "       [3.100e+01, 9.986e+03, 0.000e+00, 0.000e+00, 0.000e+00, 0.000e+00],\n",
              "       [3.200e+01, 9.996e+03, 0.000e+00, 0.000e+00, 0.000e+00, 0.000e+00],\n",
              "       [3.300e+01, 9.996e+03, 0.000e+00, 0.000e+00, 0.000e+00, 0.000e+00],\n",
              "       [3.400e+01, 9.996e+03, 0.000e+00, 0.000e+00, 0.000e+00, 0.000e+00],\n",
              "       [3.500e+01, 9.996e+03, 0.000e+00, 0.000e+00, 0.000e+00, 0.000e+00],\n",
              "       [3.600e+01, 9.996e+03, 0.000e+00, 0.000e+00, 0.000e+00, 0.000e+00],\n",
              "       [3.700e+01, 9.996e+03, 0.000e+00, 0.000e+00, 0.000e+00, 0.000e+00],\n",
              "       [3.800e+01, 9.996e+03, 0.000e+00, 0.000e+00, 0.000e+00, 0.000e+00],\n",
              "       [3.900e+01, 9.996e+03, 0.000e+00, 0.000e+00, 0.000e+00, 0.000e+00],\n",
              "       [4.000e+01, 9.996e+03, 0.000e+00, 0.000e+00, 0.000e+00, 0.000e+00],\n",
              "       [4.100e+01, 9.996e+03, 0.000e+00, 0.000e+00, 0.000e+00, 0.000e+00],\n",
              "       [4.200e+01, 9.996e+03, 0.000e+00, 0.000e+00, 0.000e+00, 0.000e+00],\n",
              "       [4.300e+01, 9.996e+03, 0.000e+00, 0.000e+00, 0.000e+00, 0.000e+00],\n",
              "       [4.400e+01, 9.996e+03, 0.000e+00, 0.000e+00, 0.000e+00, 0.000e+00],\n",
              "       [4.500e+01, 9.996e+03, 0.000e+00, 0.000e+00, 0.000e+00, 0.000e+00],\n",
              "       [4.600e+01, 9.996e+03, 0.000e+00, 0.000e+00, 0.000e+00, 0.000e+00],\n",
              "       [4.700e+01, 9.996e+03, 0.000e+00, 0.000e+00, 0.000e+00, 0.000e+00],\n",
              "       [4.800e+01, 9.990e+03, 0.000e+00, 0.000e+00, 0.000e+00, 0.000e+00],\n",
              "       [4.900e+01, 9.990e+03, 0.000e+00, 0.000e+00, 0.000e+00, 0.000e+00],\n",
              "       [5.000e+01, 9.990e+03, 0.000e+00, 0.000e+00, 0.000e+00, 0.000e+00],\n",
              "       [5.100e+01, 9.990e+03, 0.000e+00, 0.000e+00, 0.000e+00, 0.000e+00],\n",
              "       [5.200e+01, 9.990e+03, 0.000e+00, 0.000e+00, 0.000e+00, 0.000e+00],\n",
              "       [5.300e+01, 9.990e+03, 0.000e+00, 0.000e+00, 0.000e+00, 0.000e+00],\n",
              "       [5.400e+01, 9.990e+03, 0.000e+00, 0.000e+00, 0.000e+00, 0.000e+00],\n",
              "       [5.500e+01, 9.990e+03, 0.000e+00, 0.000e+00, 0.000e+00, 0.000e+00],\n",
              "       [5.600e+01, 9.990e+03, 0.000e+00, 0.000e+00, 0.000e+00, 0.000e+00],\n",
              "       [5.700e+01, 9.990e+03, 0.000e+00, 0.000e+00, 0.000e+00, 0.000e+00],\n",
              "       [5.800e+01, 9.990e+03, 0.000e+00, 0.000e+00, 0.000e+00, 0.000e+00],\n",
              "       [5.900e+01, 9.990e+03, 0.000e+00, 0.000e+00, 0.000e+00, 0.000e+00],\n",
              "       [6.000e+01, 9.990e+03, 0.000e+00, 0.000e+00, 0.000e+00, 0.000e+00],\n",
              "       [6.100e+01, 9.990e+03, 0.000e+00, 0.000e+00, 0.000e+00, 0.000e+00],\n",
              "       [6.200e+01, 9.990e+03, 0.000e+00, 0.000e+00, 0.000e+00, 0.000e+00],\n",
              "       [6.300e+01, 9.990e+03, 0.000e+00, 0.000e+00, 0.000e+00, 0.000e+00],\n",
              "       [6.400e+01, 9.984e+03, 0.000e+00, 0.000e+00, 0.000e+00, 0.000e+00],\n",
              "       [6.500e+01, 9.984e+03, 0.000e+00, 0.000e+00, 0.000e+00, 0.000e+00],\n",
              "       [6.600e+01, 9.984e+03, 0.000e+00, 0.000e+00, 0.000e+00, 0.000e+00],\n",
              "       [6.700e+01, 9.984e+03, 0.000e+00, 0.000e+00, 0.000e+00, 0.000e+00],\n",
              "       [6.800e+01, 9.984e+03, 0.000e+00, 0.000e+00, 0.000e+00, 0.000e+00],\n",
              "       [6.900e+01, 9.984e+03, 0.000e+00, 0.000e+00, 0.000e+00, 0.000e+00],\n",
              "       [7.000e+01, 9.984e+03, 0.000e+00, 0.000e+00, 0.000e+00, 0.000e+00],\n",
              "       [7.100e+01, 9.984e+03, 0.000e+00, 0.000e+00, 0.000e+00, 0.000e+00],\n",
              "       [7.200e+01, 9.984e+03, 0.000e+00, 0.000e+00, 0.000e+00, 0.000e+00],\n",
              "       [7.300e+01, 9.984e+03, 0.000e+00, 0.000e+00, 0.000e+00, 0.000e+00],\n",
              "       [7.400e+01, 9.984e+03, 0.000e+00, 0.000e+00, 0.000e+00, 0.000e+00],\n",
              "       [7.500e+01, 9.984e+03, 0.000e+00, 0.000e+00, 0.000e+00, 0.000e+00],\n",
              "       [7.600e+01, 9.984e+03, 0.000e+00, 0.000e+00, 0.000e+00, 0.000e+00],\n",
              "       [7.700e+01, 9.984e+03, 0.000e+00, 0.000e+00, 0.000e+00, 0.000e+00],\n",
              "       [7.800e+01, 9.984e+03, 0.000e+00, 0.000e+00, 0.000e+00, 0.000e+00],\n",
              "       [7.900e+01, 9.984e+03, 0.000e+00, 0.000e+00, 0.000e+00, 0.000e+00],\n",
              "       [8.000e+01, 9.986e+03, 0.000e+00, 0.000e+00, 0.000e+00, 0.000e+00],\n",
              "       [8.100e+01, 9.986e+03, 0.000e+00, 0.000e+00, 0.000e+00, 0.000e+00],\n",
              "       [8.200e+01, 9.986e+03, 0.000e+00, 0.000e+00, 0.000e+00, 0.000e+00],\n",
              "       [8.300e+01, 9.986e+03, 0.000e+00, 0.000e+00, 0.000e+00, 0.000e+00],\n",
              "       [8.400e+01, 9.986e+03, 0.000e+00, 0.000e+00, 0.000e+00, 0.000e+00],\n",
              "       [8.500e+01, 9.986e+03, 0.000e+00, 0.000e+00, 0.000e+00, 0.000e+00],\n",
              "       [8.600e+01, 9.986e+03, 0.000e+00, 0.000e+00, 0.000e+00, 0.000e+00],\n",
              "       [8.700e+01, 9.986e+03, 0.000e+00, 0.000e+00, 0.000e+00, 0.000e+00],\n",
              "       [8.800e+01, 9.986e+03, 0.000e+00, 0.000e+00, 0.000e+00, 0.000e+00],\n",
              "       [8.900e+01, 9.986e+03, 0.000e+00, 0.000e+00, 0.000e+00, 0.000e+00],\n",
              "       [9.000e+01, 9.986e+03, 0.000e+00, 0.000e+00, 0.000e+00, 0.000e+00],\n",
              "       [9.100e+01, 9.986e+03, 0.000e+00, 0.000e+00, 0.000e+00, 0.000e+00],\n",
              "       [9.200e+01, 9.986e+03, 0.000e+00, 0.000e+00, 0.000e+00, 0.000e+00],\n",
              "       [9.300e+01, 9.986e+03, 0.000e+00, 0.000e+00, 0.000e+00, 0.000e+00],\n",
              "       [9.400e+01, 9.986e+03, 0.000e+00, 0.000e+00, 0.000e+00, 0.000e+00],\n",
              "       [9.500e+01, 9.986e+03, 0.000e+00, 0.000e+00, 0.000e+00, 0.000e+00],\n",
              "       [9.600e+01, 9.984e+03, 0.000e+00, 0.000e+00, 0.000e+00, 0.000e+00],\n",
              "       [9.700e+01, 9.984e+03, 0.000e+00, 0.000e+00, 0.000e+00, 0.000e+00],\n",
              "       [9.800e+01, 9.984e+03, 0.000e+00, 0.000e+00, 0.000e+00, 0.000e+00],\n",
              "       [9.900e+01, 9.984e+03, 0.000e+00, 0.000e+00, 0.000e+00, 0.000e+00],\n",
              "       [1.000e+02, 9.984e+03, 0.000e+00, 0.000e+00, 0.000e+00, 0.000e+00],\n",
              "       [1.010e+02, 9.984e+03, 0.000e+00, 0.000e+00, 0.000e+00, 0.000e+00],\n",
              "       [1.020e+02, 9.984e+03, 0.000e+00, 0.000e+00, 0.000e+00, 0.000e+00],\n",
              "       [1.030e+02, 9.984e+03, 0.000e+00, 0.000e+00, 0.000e+00, 0.000e+00],\n",
              "       [1.040e+02, 9.984e+03, 0.000e+00, 0.000e+00, 0.000e+00, 0.000e+00],\n",
              "       [1.050e+02, 9.984e+03, 0.000e+00, 0.000e+00, 0.000e+00, 0.000e+00],\n",
              "       [1.060e+02, 9.984e+03, 0.000e+00, 0.000e+00, 0.000e+00, 0.000e+00],\n",
              "       [1.070e+02, 9.984e+03, 0.000e+00, 0.000e+00, 0.000e+00, 0.000e+00],\n",
              "       [1.080e+02, 9.984e+03, 0.000e+00, 0.000e+00, 0.000e+00, 0.000e+00],\n",
              "       [1.090e+02, 9.984e+03, 0.000e+00, 0.000e+00, 0.000e+00, 0.000e+00],\n",
              "       [1.100e+02, 9.984e+03, 0.000e+00, 0.000e+00, 0.000e+00, 0.000e+00],\n",
              "       [1.110e+02, 9.984e+03, 0.000e+00, 0.000e+00, 0.000e+00, 0.000e+00],\n",
              "       [1.120e+02, 9.984e+03, 0.000e+00, 0.000e+00, 0.000e+00, 0.000e+00],\n",
              "       [1.130e+02, 9.984e+03, 0.000e+00, 0.000e+00, 0.000e+00, 0.000e+00],\n",
              "       [1.140e+02, 9.984e+03, 0.000e+00, 0.000e+00, 0.000e+00, 0.000e+00],\n",
              "       [1.150e+02, 9.984e+03, 0.000e+00, 0.000e+00, 0.000e+00, 0.000e+00],\n",
              "       [1.160e+02, 9.984e+03, 0.000e+00, 0.000e+00, 0.000e+00, 0.000e+00],\n",
              "       [1.170e+02, 9.984e+03, 0.000e+00, 0.000e+00, 0.000e+00, 0.000e+00],\n",
              "       [1.180e+02, 9.984e+03, 0.000e+00, 0.000e+00, 0.000e+00, 0.000e+00],\n",
              "       [1.190e+02, 9.984e+03, 0.000e+00, 0.000e+00, 0.000e+00, 0.000e+00],\n",
              "       [1.200e+02, 9.984e+03, 0.000e+00, 0.000e+00, 0.000e+00, 0.000e+00],\n",
              "       [1.210e+02, 9.984e+03, 0.000e+00, 0.000e+00, 0.000e+00, 0.000e+00],\n",
              "       [1.220e+02, 9.984e+03, 0.000e+00, 0.000e+00, 0.000e+00, 0.000e+00],\n",
              "       [1.230e+02, 9.984e+03, 0.000e+00, 0.000e+00, 0.000e+00, 0.000e+00],\n",
              "       [1.240e+02, 9.984e+03, 0.000e+00, 0.000e+00, 0.000e+00, 0.000e+00],\n",
              "       [1.250e+02, 9.984e+03, 0.000e+00, 0.000e+00, 0.000e+00, 0.000e+00],\n",
              "       [1.260e+02, 9.984e+03, 0.000e+00, 0.000e+00, 0.000e+00, 0.000e+00],\n",
              "       [1.270e+02, 9.984e+03, 0.000e+00, 0.000e+00, 0.000e+00, 0.000e+00]],\n",
              "      dtype=float32)"
            ]
          },
          "metadata": {
            "tags": []
          },
          "execution_count": 53
        }
      ]
    },
    {
      "cell_type": "code",
      "metadata": {
        "id": "AWLA0-kotylU",
        "colab_type": "code",
        "outputId": "b0cedd73-fc7d-4abb-ddba-e7b48b957a90",
        "colab": {
          "base_uri": "https://localhost:8080/",
          "height": 34
        }
      },
      "source": [
        "blocks_per_grid"
      ],
      "execution_count": 0,
      "outputs": [
        {
          "output_type": "execute_result",
          "data": {
            "text/plain": [
              "(157, 625)"
            ]
          },
          "metadata": {
            "tags": []
          },
          "execution_count": 59
        }
      ]
    },
    {
      "cell_type": "code",
      "metadata": {
        "id": "dWF2tdv_zaJN",
        "colab_type": "code",
        "colab": {}
      },
      "source": [
        ""
      ],
      "execution_count": 0,
      "outputs": []
    }
  ]
}