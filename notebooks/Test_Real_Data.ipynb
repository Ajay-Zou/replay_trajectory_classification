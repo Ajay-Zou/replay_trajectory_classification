{
 "cells": [
  {
   "cell_type": "code",
   "execution_count": 1,
   "metadata": {},
   "outputs": [],
   "source": [
    "%matplotlib inline\n",
    "%reload_ext autoreload\n",
    "%autoreload 2\n",
    "%config InlineBackend.figure_format = 'retina'\n",
    "%reload_ext snakeviz\n",
    "%reload_ext line_profiler"
   ]
  },
  {
   "cell_type": "code",
   "execution_count": 2,
   "metadata": {},
   "outputs": [],
   "source": [
    "import pandas as pd\n",
    "import xarray as xr\n",
    "import numpy as np\n",
    "import matplotlib.pyplot as plt\n",
    "\n",
    "import logging\n",
    "logging.basicConfig(level=logging.INFO)"
   ]
  },
  {
   "cell_type": "code",
   "execution_count": 3,
   "metadata": {},
   "outputs": [],
   "source": [
    "from collections import namedtuple\n",
    "from os.path import join, abspath, dirname, pardir\n",
    "\n",
    "# LFP sampling frequency\n",
    "sampling_frequency = 1500\n",
    "\n",
    "# Data directories and definitions\n",
    "NOTEBOOK_DIR = !pwd\n",
    "ROOT_DIR = abspath(dirname(NOTEBOOK_DIR[0]))\n",
    "RAW_DATA_DIR = join(ROOT_DIR, 'Raw-Data')\n",
    "\n",
    "Animal = namedtuple('Animal', {'directory', 'short_name'})\n",
    "animals = {\n",
    "    'bon': Animal(directory=join(RAW_DATA_DIR, 'Bond'),\n",
    "                  short_name='bon'),\n",
    "}\n",
    "\n",
    "epoch_key = ('bon', 3, 2)"
   ]
  },
  {
   "cell_type": "code",
   "execution_count": 4,
   "metadata": {},
   "outputs": [],
   "source": [
    "from logging import getLogger\n",
    "from os.path import join\n",
    "\n",
    "from loren_frank_data_processing import (get_all_multiunit_indicators,\n",
    "                                         get_all_spike_indicators,\n",
    "                                         get_interpolated_position_dataframe,\n",
    "                                         get_LFPs, make_neuron_dataframe,\n",
    "                                         make_tetrode_dataframe)\n",
    "from ripple_detection import (Kay_ripple_detector, filter_ripple_band,\n",
    "                              get_multiunit_population_firing_rate,\n",
    "                              multiunit_HSE_detector)\n",
    "from spectral_connectivity import Connectivity, Multitaper\n",
    "from scipy.ndimage.measurements import label\n",
    "from matplotlib.colors import ListedColormap, LogNorm\n",
    "import seaborn as sns\n",
    "\n",
    "logger = getLogger(__name__)\n",
    "\n",
    "_MARKS = ['channel_1_max', 'channel_2_max', 'channel_3_max', 'channel_4_max']\n",
    "\n",
    "\n",
    "def get_ripple_labels(ripple_times, time):\n",
    "    ripple_labels = pd.DataFrame(np.zeros_like(time, dtype=np.int), index=time,\n",
    "                                 columns=['replay_number'])\n",
    "    for replay_number, start_time, end_time in ripple_times.itertuples():\n",
    "        ripple_labels.loc[start_time:end_time] = replay_number\n",
    "\n",
    "    return ripple_labels\n",
    "\n",
    "\n",
    "def estimate_ripple_band_power(lfps, sampling_frequency):\n",
    "    m = Multitaper(lfps.values, sampling_frequency=sampling_frequency,\n",
    "                   time_halfbandwidth_product=1,\n",
    "                   time_window_duration=0.020,\n",
    "                   time_window_step=0.020,\n",
    "                   start_time=lfps.index[0].total_seconds())\n",
    "    c = Connectivity.from_multitaper(m)\n",
    "    closest_200Hz_freq_ind = np.argmin(np.abs(c.frequencies - 200))\n",
    "    power = c.power()[..., closest_200Hz_freq_ind, :].squeeze() + np.spacing(1)\n",
    "    n_samples = int(0.020 * sampling_frequency)\n",
    "    index = lfps.index[np.arange(1, power.shape[0] * n_samples + 1, n_samples)]\n",
    "    power = pd.DataFrame(power, index=index)\n",
    "    return power.reindex(lfps.index)\n",
    "\n",
    "\n",
    "def load_data(epoch_key, animals, sampling_frequency, data_types,\n",
    "              brain_areas, speed_metric='linear_speed'):\n",
    "\n",
    "    logger.info('Loading Data...')\n",
    "    position_info = (\n",
    "        get_interpolated_position_dataframe(epoch_key, animals)\n",
    "        .dropna(subset=['linear_distance', 'linear_speed']))\n",
    "\n",
    "    speed = position_info[speed_metric]\n",
    "    time = position_info.index\n",
    "\n",
    "    tetrode_info = make_tetrode_dataframe(animals).xs(\n",
    "        epoch_key, drop_level=False)\n",
    "    is_brain_areas = tetrode_info.area.isin(brain_areas)\n",
    "    tetrode_keys = tetrode_info.loc[\n",
    "        (tetrode_info.validripple == 1) & is_brain_areas].index\n",
    "    lfps = get_LFPs(tetrode_keys, animals)\n",
    "    lfps = lfps.reindex(time)\n",
    "\n",
    "    if 'lfp_power' in data_types:\n",
    "        power = estimate_ripple_band_power(lfps, sampling_frequency)\n",
    "    else:\n",
    "        power = None\n",
    "\n",
    "    neuron_info = make_neuron_dataframe(animals).xs(\n",
    "        epoch_key, drop_level=False)\n",
    "    neuron_info = neuron_info.loc[\n",
    "        (neuron_info.numspikes > 0) &\n",
    "        neuron_info.area.isin(brain_areas)]\n",
    "    spikes = (get_all_spike_indicators(neuron_info.index, animals)\n",
    "              .reindex(time))\n",
    "\n",
    "    logger.info('Finding multiunit high synchrony events...')\n",
    "    tetrode_info = tetrode_info.loc[\n",
    "        (tetrode_info.numcells > 0) & is_brain_areas]\n",
    "    if 'multiunit' in data_types:\n",
    "        multiunit = (get_all_multiunit_indicators(tetrode_info.index, animals)\n",
    "                     .sel(features=_MARKS)\n",
    "                     .reindex({'time': time}))\n",
    "        multiunit_spikes = (np.any(~np.isnan(multiunit), axis=1)\n",
    "                            .values).astype(np.float)\n",
    "        multiunit_high_synchrony_times = multiunit_HSE_detector(\n",
    "            time, multiunit_spikes, speed.values, sampling_frequency,\n",
    "            minimum_duration=np.timedelta64(15, 'ms'), zscore_threshold=2.0,\n",
    "            close_event_threshold=np.timedelta64(0, 'ms'))\n",
    "        multiunit_high_synchrony_times.index = (\n",
    "            multiunit_high_synchrony_times.index.rename('replay_number'))\n",
    "        multiunit_high_synchrony_labels = get_ripple_labels(\n",
    "            multiunit_high_synchrony_times, time)\n",
    "        multiunit_firing_rate = pd.DataFrame(\n",
    "            get_multiunit_population_firing_rate(\n",
    "                multiunit_spikes, sampling_frequency), index=time,\n",
    "            columns=['firing_rate'])\n",
    "    else:\n",
    "        multiunit = None\n",
    "        multiunit_high_synchrony_times = None\n",
    "        multiunit_high_synchrony_labels = 0\n",
    "        multiunit_firing_rate = None\n",
    "\n",
    "    logger.info('Finding ripple times...')\n",
    "    ripple_times = Kay_ripple_detector(\n",
    "        time, lfps.values, speed.values, sampling_frequency,\n",
    "        zscore_threshold=2.0, close_ripple_threshold=np.timedelta64(0, 'ms'),\n",
    "        minimum_duration=np.timedelta64(15, 'ms'))\n",
    "    ripple_times.index = ripple_times.index.rename('replay_number')\n",
    "    ripple_labels = get_ripple_labels(ripple_times, time)\n",
    "\n",
    "    ripple_band_lfps = pd.DataFrame(\n",
    "        np.stack([filter_ripple_band(lfps.values[:, ind])\n",
    "                  for ind in np.arange(lfps.shape[1])], axis=1),\n",
    "        index=lfps.index)\n",
    "\n",
    "    ripple_times = ripple_times.assign(\n",
    "        duration=lambda df: (df.end_time - df.start_time).dt.total_seconds())\n",
    "\n",
    "    return {\n",
    "        'position_info': position_info,\n",
    "        'ripple_times': ripple_times,\n",
    "        'is_ripple': ripple_labels > 0,\n",
    "        'ripple_labels': ripple_labels,\n",
    "        'power': power,\n",
    "        'spikes': spikes,\n",
    "        'multiunit': multiunit,\n",
    "        'lfps': lfps,\n",
    "        'tetrode_info': tetrode_info,\n",
    "        'ripple_band_lfps': ripple_band_lfps,\n",
    "        'multiunit_high_synchrony_times': multiunit_high_synchrony_times,\n",
    "        'is_multiunit_high_synchrony': multiunit_high_synchrony_labels > 0,\n",
    "        'multiunit_firing_rate': multiunit_firing_rate,\n",
    "    }\n",
    "\n",
    "\n",
    "\n",
    "def start_time(s):\n",
    "    return s.index[0]\n",
    "\n",
    "\n",
    "def end_time(s):\n",
    "    return s.index[-1]\n",
    "\n",
    "\n",
    "def max_probability(df):\n",
    "    return df.max()\n",
    "\n",
    "\n",
    "def duration(df):\n",
    "    return (df.index[-1] - df.index[0]).total_seconds()\n",
    "\n",
    "def get_replay_times(results, probability_threshold=0.8,\n",
    "                     minimum_duration=0.000):\n",
    "\n",
    "    replay_labels = label(\n",
    "        results.replay_probability > probability_threshold)[0]\n",
    "    labels = pd.DataFrame(\n",
    "        {'replay_number': replay_labels,\n",
    "         'replay_probability': results.replay_probability.values},\n",
    "        index=results.time.to_index())\n",
    "\n",
    "    grouper = labels.loc[labels.replay_number > 0].groupby('replay_number')\n",
    "    replay_times = (grouper\n",
    "                    .agg([start_time, end_time, duration, max_probability]))\n",
    "    replay_times.columns = replay_times.columns.get_level_values(1)\n",
    "\n",
    "    replay_times = replay_times.loc[replay_times.duration > minimum_duration]\n",
    "    labels[~labels.isin(replay_times.index.values)] = 0\n",
    "\n",
    "    return replay_times, labels"
   ]
  },
  {
   "cell_type": "code",
   "execution_count": 5,
   "metadata": {},
   "outputs": [
    {
     "name": "stderr",
     "output_type": "stream",
     "text": [
      "INFO:__main__:Loading Data...\n",
      "WARNING:loren_frank_data_processing.core:Failed to load file: /data2/edeno/replay_trajectory_classification/Raw-Data/Bond/bonDIO03.mat\n",
      "WARNING:loren_frank_data_processing.core:No DIO file found, using distance from well to segment trials\n",
      "WARNING:loren_frank_data_processing.core:Failed to load file: /data2/edeno/replay_trajectory_classification/Raw-Data/Bond/bonDIO03.mat\n",
      "WARNING:loren_frank_data_processing.core:No DIO file found, inferring correct inbound/outbound from task rules\n",
      "INFO:__main__:Finding multiunit high synchrony events...\n",
      "INFO:__main__:Finding ripple times...\n"
     ]
    }
   ],
   "source": [
    "data_types = {'multiunit'}\n",
    "brain_areas = ['CA1', 'CA2', 'CA3']\n",
    "\n",
    "data = load_data(epoch_key, animals, sampling_frequency, data_types,\n",
    "                 brain_areas, speed_metric='linear_speed')"
   ]
  },
  {
   "cell_type": "code",
   "execution_count": 20,
   "metadata": {},
   "outputs": [
    {
     "data": {
      "text/plain": [
       "ClusterlessClassifier(continuous_transition_types=[['w_track_1D_random_walk',\n",
       "                                                    'uniform', 'identity'],\n",
       "                                                   ['uniform', 'uniform',\n",
       "                                                    'uniform'],\n",
       "                                                   ['w_track_1D_random_walk',\n",
       "                                                    'uniform', 'identity']],\n",
       "                      discrete_transition_diag=0.98,\n",
       "                      discrete_transition_type='strong_diagonal',\n",
       "                      infer_track_interior=True,\n",
       "                      initial_conditions_type='uniform_on_track',\n",
       "                      model=<class 'replay_trajectory_classification.misc.NumbaKDE'>,\n",
       "                      model_kwargs={'bandwidth': array([24., 24., 24., 24.,  5.,  5.])},\n",
       "                      movement_var=6.0,\n",
       "                      occupancy_kwargs={'bandwidth': array([24., 24., 24., 24.,  5.,  5.])},\n",
       "                      occupancy_model=<class 'replay_trajectory_classification.misc.NumbaKDE'>,\n",
       "                      place_bin_size=3.0, position_range=None, replay_speed=1)"
      ]
     },
     "execution_count": 20,
     "metadata": {},
     "output_type": "execute_result"
    }
   ],
   "source": [
    "from replay_trajectory_classification import ClusterlessClassifier\n",
    "from replay_trajectory_classification.misc import NumbaKDE\n",
    "\n",
    "# Classifier Parameters\n",
    "place_bin_size = 3.0\n",
    "movement_var = 6.0\n",
    "replay_speed = 1\n",
    "model = NumbaKDE\n",
    "model_kwargs = {\n",
    "    'bandwidth': np.array([24.0, 24.0, 24.0, 24.0, 5.0, 5.0])\n",
    "}\n",
    "knot_spacing = 5\n",
    "spike_model_penalty = 0.5\n",
    "discrete_diag = 0.98\n",
    "continuous_transition_types = (\n",
    "    [['w_track_1D_random_walk', 'uniform', 'identity'],  # noqa\n",
    "     ['uniform',                'uniform', 'uniform'],   # noqa\n",
    "     ['w_track_1D_random_walk', 'uniform', 'identity']])  # noqa\n",
    "\n",
    "\n",
    "classifier = ClusterlessClassifier(\n",
    "    place_bin_size=place_bin_size,\n",
    "    movement_var=movement_var,\n",
    "    replay_speed=replay_speed,\n",
    "    discrete_transition_diag=discrete_diag,\n",
    "    continuous_transition_types=continuous_transition_types,\n",
    "    model=model,\n",
    "    model_kwargs=model_kwargs,\n",
    ")\n",
    "\n",
    "classifier"
   ]
  },
  {
   "cell_type": "code",
   "execution_count": 21,
   "metadata": {},
   "outputs": [],
   "source": [
    "is_training = data[\"position_info\"].speed > 4\n",
    "position = data[\"position_info\"].loc[:, \"linear_position\"]\n",
    "track_labels = data[\"position_info\"].arm_name"
   ]
  },
  {
   "cell_type": "code",
   "execution_count": 22,
   "metadata": {},
   "outputs": [
    {
     "name": "stderr",
     "output_type": "stream",
     "text": [
      "INFO:replay_trajectory_classification.classifier:Fitting initial conditions...\n",
      "INFO:replay_trajectory_classification.classifier:Fitting state transition...\n",
      "INFO:replay_trajectory_classification.classifier:Fitting multiunits...\n"
     ]
    },
    {
     "name": "stdout",
     "output_type": "stream",
     "text": [
      " \n",
      "*** Profile stats marshalled to file '/tmp/tmpogtd6ar4'. \n",
      "Opening SnakeViz in a new tab...\n"
     ]
    }
   ],
   "source": [
    "%%snakeviz -t\n",
    "\n",
    "classifier.fit(position, data[\"multiunit\"], is_training=is_training, track_labels=track_labels)"
   ]
  },
  {
   "cell_type": "code",
   "execution_count": 27,
   "metadata": {},
   "outputs": [
    {
     "name": "stdout",
     "output_type": "stream",
     "text": [
      " \n",
      "*** Profile stats marshalled to file '/tmp/tmpuw6ivz8l'. \n",
      "Opening SnakeViz in a new tab...\n"
     ]
    }
   ],
   "source": [
    "%%snakeviz -t\n",
    "\n",
    "results = classifier.predict(data['multiunit'].isel(time=slice(10_000, 20_000)))"
   ]
  },
  {
   "cell_type": "code",
   "execution_count": 28,
   "metadata": {},
   "outputs": [
    {
     "data": {
      "text/html": [
       "<pre>&lt;xarray.Dataset&gt;\n",
       "Dimensions:            (position: 107, state: 3, time: 10000)\n",
       "Coordinates:\n",
       "  * time               (time) int64 0 1 2 3 4 5 ... 9995 9996 9997 9998 9999\n",
       "  * position           (position) float64 1.493 4.478 7.463 ... 314.9 317.9\n",
       "  * state              (state) &lt;U22 &#x27;w_track_1D_random_walk&#x27; ... &#x27;identity&#x27;\n",
       "Data variables:\n",
       "    likelihood         (time, state, position) float64 0.9848 0.9609 ... 0.6915\n",
       "    causal_posterior   (time, state, position) float64 0.00537 ... 0.0002274\n",
       "    acausal_posterior  (time, state, position) float64 0.01684 ... 0.0002274</pre>"
      ],
      "text/plain": [
       "<xarray.Dataset>\n",
       "Dimensions:            (position: 107, state: 3, time: 10000)\n",
       "Coordinates:\n",
       "  * time               (time) int64 0 1 2 3 4 5 ... 9995 9996 9997 9998 9999\n",
       "  * position           (position) float64 1.493 4.478 7.463 ... 314.9 317.9\n",
       "  * state              (state) <U22 'w_track_1D_random_walk' ... 'identity'\n",
       "Data variables:\n",
       "    likelihood         (time, state, position) float64 0.9848 0.9609 ... 0.6915\n",
       "    causal_posterior   (time, state, position) float64 0.00537 ... 0.0002274\n",
       "    acausal_posterior  (time, state, position) float64 0.01684 ... 0.0002274"
      ]
     },
     "execution_count": 28,
     "metadata": {},
     "output_type": "execute_result"
    }
   ],
   "source": [
    "results"
   ]
  },
  {
   "cell_type": "code",
   "execution_count": 29,
   "metadata": {},
   "outputs": [
    {
     "data": {
      "text/plain": [
       "<matplotlib.collections.QuadMesh at 0x7f92d95dabe0>"
      ]
     },
     "execution_count": 29,
     "metadata": {},
     "output_type": "execute_result"
    },
    {
     "data": {
      "image/png": "[encoded data removed]",
      "text/plain": [
       "<Figure size 432x288 with 2 Axes>"
      ]
     },
     "metadata": {
      "image/png": {
       "height": 261,
       "width": 386
      },
      "needs_background": "light"
     },
     "output_type": "display_data"
    }
   ],
   "source": [
    "results['acausal_posterior'].sum('state').plot(x='time', y='position')"
   ]
  },
  {
   "cell_type": "code",
   "execution_count": null,
   "metadata": {},
   "outputs": [],
   "source": []
  }
 ],
 "metadata": {
  "kernelspec": {
   "display_name": "Python [conda env:replay_trajectory_classification] *",
   "language": "python",
   "name": "conda-env-replay_trajectory_classification-py"
  },
  "language_info": {
   "codemirror_mode": {
    "name": "ipython",
    "version": 3
   },
   "file_extension": ".py",
   "mimetype": "text/x-python",
   "name": "python",
   "nbconvert_exporter": "python",
   "pygments_lexer": "ipython3",
   "version": "3.6.7"
  }
 },
 "nbformat": 4,
 "nbformat_minor": 4
}
