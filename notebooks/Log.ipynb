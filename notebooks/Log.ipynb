{
 "cells": [
  {
   "cell_type": "code",
   "execution_count": 1,
   "metadata": {},
   "outputs": [],
   "source": [
    "%matplotlib inline\n",
    "%reload_ext autoreload\n",
    "%autoreload 2\n",
    "%config InlineBackend.figure_format = 'retina'"
   ]
  },
  {
   "cell_type": "code",
   "execution_count": 2,
   "metadata": {},
   "outputs": [
    {
     "data": {
      "text/plain": [
       "\u001b[0;31mSignature:\u001b[0m       \u001b[0m_causal_classify\u001b[0m\u001b[0;34m(\u001b[0m\u001b[0minitial_conditions\u001b[0m\u001b[0;34m,\u001b[0m \u001b[0mcontinuous_state_transition\u001b[0m\u001b[0;34m,\u001b[0m \u001b[0mdiscrete_state_transition\u001b[0m\u001b[0;34m,\u001b[0m \u001b[0mlikelihood\u001b[0m\u001b[0;34m)\u001b[0m\u001b[0;34m\u001b[0m\u001b[0;34m\u001b[0m\u001b[0m\n",
       "\u001b[0;31mCall signature:\u001b[0m  \u001b[0m_causal_classify\u001b[0m\u001b[0;34m(\u001b[0m\u001b[0;34m*\u001b[0m\u001b[0margs\u001b[0m\u001b[0;34m,\u001b[0m \u001b[0;34m**\u001b[0m\u001b[0mkwargs\u001b[0m\u001b[0;34m)\u001b[0m\u001b[0;34m\u001b[0m\u001b[0;34m\u001b[0m\u001b[0m\n",
       "\u001b[0;31mType:\u001b[0m            CPUDispatcher\n",
       "\u001b[0;31mString form:\u001b[0m     CPUDispatcher(<function _causal_classify at 0x1144c5b70>)\n",
       "\u001b[0;31mFile:\u001b[0m            ~/Documents/GitHub/replay_trajectory_classification/replay_trajectory_classification/core.py\n",
       "\u001b[0;31mDocstring:\u001b[0m      \n",
       "Adaptive filter to iteratively calculate the posterior probability\n",
       "of a state variable using past information.\n",
       "\n",
       "Parameters\n",
       "----------\n",
       "initial_conditions : ndarray, shape (n_states, n_bins, 1)\n",
       "continuous_state_transition : ndarray, shape (n_states, n_states,\n",
       "                                              n_bins, n_bins)\n",
       "discrete_state_transition : ndarray, shape (n_states, n_states)\n",
       "likelihood : ndarray, shape (n_time, n_states, n_bins, 1)\n",
       "\n",
       "Returns\n",
       "-------\n",
       "causal_posterior : ndarray, shape (n_time, n_states, n_bins, 1)\n",
       "\u001b[0;31mClass docstring:\u001b[0m\n",
       "Implementation of user-facing dispatcher objects (i.e. created using\n",
       "the @jit decorator).\n",
       "This is an abstract base class. Subclasses should define the targetdescr\n",
       "class attribute.\n",
       "\u001b[0;31mInit docstring:\u001b[0m \n",
       "Parameters\n",
       "----------\n",
       "py_func: function object to be compiled\n",
       "locals: dict, optional\n",
       "    Mapping of local variable names to Numba types.  Used to override\n",
       "    the types deduced by the type inference engine.\n",
       "targetoptions: dict, optional\n",
       "    Target-specific config options.\n",
       "impl_kind: str\n",
       "    Select the compiler mode for `@jit` and `@generated_jit`\n",
       "pipeline_class: type numba.compiler.CompilerBase\n",
       "    The compiler pipeline type.\n"
      ]
     },
     "metadata": {},
     "output_type": "display_data"
    }
   ],
   "source": [
    "from replay_trajectory_classification.core import _causal_classify\n",
    "\n",
    "_causal_classify?"
   ]
  },
  {
   "cell_type": "code",
   "execution_count": 13,
   "metadata": {},
   "outputs": [
    {
     "name": "stdout",
     "output_type": "stream",
     "text": [
      "(15, 2, 5, 1)\n"
     ]
    },
    {
     "data": {
      "text/plain": [
       "array([[[0.1],\n",
       "        [0.1],\n",
       "        [0.1],\n",
       "        [0.1],\n",
       "        [0.1]],\n",
       "\n",
       "       [[0.1],\n",
       "        [0.1],\n",
       "        [0.1],\n",
       "        [0.1],\n",
       "        [0.1]]])"
      ]
     },
     "execution_count": 13,
     "metadata": {},
     "output_type": "execute_result"
    }
   ],
   "source": [
    "import numpy as np\n",
    "\n",
    "n_states, n_bins, n_time = 2, 5, 15\n",
    "\n",
    "initial_conditions = np.ones((n_states, n_bins, 1))\n",
    "\n",
    "continuous_state_transition = np.ones((n_states, n_states, n_bins, n_bins))\n",
    "discrete_state_transition = np.identity(n_states)\n",
    "likelihood = np.ones((n_time, n_states, n_bins, 1))\n",
    "\n",
    "posterior = _causal_classify(initial_conditions, continuous_state_transition, discrete_state_transition, likelihood)\n",
    "print(posterior.shape)\n",
    "posterior[0]"
   ]
  },
  {
   "cell_type": "code",
   "execution_count": 36,
   "metadata": {},
   "outputs": [
    {
     "name": "stdout",
     "output_type": "stream",
     "text": [
      "(15, 2, 5, 1)\n"
     ]
    },
    {
     "name": "stderr",
     "output_type": "stream",
     "text": [
      "/Users/edeno/miniconda3/envs/replay_trajectory_classification/lib/python3.6/site-packages/ipykernel_launcher.py:24: RuntimeWarning: divide by zero encountered in log\n"
     ]
    },
    {
     "data": {
      "text/plain": [
       "array([[[1.],\n",
       "        [1.],\n",
       "        [1.],\n",
       "        [1.],\n",
       "        [1.]],\n",
       "\n",
       "       [[1.],\n",
       "        [1.],\n",
       "        [1.],\n",
       "        [1.],\n",
       "        [1.]]])"
      ]
     },
     "execution_count": 36,
     "metadata": {},
     "output_type": "execute_result"
    }
   ],
   "source": [
    "def _log_causal_classify(initial_conditions, continuous_state_transition, discrete_state_transition, likelihood):\n",
    "    n_time, n_states, n_bins, _ = likelihood.shape\n",
    "    posterior = np.zeros_like(likelihood)\n",
    "    \n",
    "    # initialize model\n",
    "    for state_ind in range(n_states):\n",
    "        for bin_ind in range(n_bins):\n",
    "            posterior[0, state_ind, bin_ind] = initial_conditions[state_ind, bin_ind] + likelihood[0, state_ind, bin_ind]\n",
    "        \n",
    "    #\n",
    "    \n",
    "    for time_ind in range(1, n_time):\n",
    "        for cur_state_ind in range(n_states):\n",
    "            for prev_state_ind in range(n_states):\n",
    "                for bin_ind in range(n_bins):\n",
    "                    posterior[time_ind, state_ind, bin_ind] = (\n",
    "                        discrete_state_transition[prev_state_ind, cur_state_ind]\n",
    "                    )\n",
    "    \n",
    "    return posterior\n",
    "\n",
    "\n",
    "log_posterior = _log_causal_classify(\n",
    "    np.log(initial_conditions),\n",
    "    np.log(continuous_state_transition),\n",
    "    np.log(discrete_state_transition),\n",
    "    np.log(likelihood))\n",
    "\n",
    "print(log_posterior.shape)\n",
    "np.exp(log_posterior[0])"
   ]
  },
  {
   "cell_type": "code",
   "execution_count": 37,
   "metadata": {},
   "outputs": [
    {
     "data": {
      "text/plain": [
       "\u001b[0;31mCall signature:\u001b[0m  \u001b[0mnp\u001b[0m\u001b[0;34m.\u001b[0m\u001b[0mlogaddexp\u001b[0m\u001b[0;34m(\u001b[0m\u001b[0;34m*\u001b[0m\u001b[0margs\u001b[0m\u001b[0;34m,\u001b[0m \u001b[0;34m**\u001b[0m\u001b[0mkwargs\u001b[0m\u001b[0;34m)\u001b[0m\u001b[0;34m\u001b[0m\u001b[0;34m\u001b[0m\u001b[0m\n",
       "\u001b[0;31mType:\u001b[0m            ufunc\n",
       "\u001b[0;31mString form:\u001b[0m     <ufunc 'logaddexp'>\n",
       "\u001b[0;31mFile:\u001b[0m            ~/miniconda3/envs/replay_trajectory_classification/lib/python3.6/site-packages/numpy/__init__.py\n",
       "\u001b[0;31mDocstring:\u001b[0m      \n",
       "logaddexp(x1, x2, /, out=None, *, where=True, casting='same_kind', order='K', dtype=None, subok=True[, signature, extobj])\n",
       "\n",
       "Logarithm of the sum of exponentiations of the inputs.\n",
       "\n",
       "Calculates ``log(exp(x1) + exp(x2))``. This function is useful in\n",
       "statistics where the calculated probabilities of events may be so small\n",
       "as to exceed the range of normal floating point numbers.  In such cases\n",
       "the logarithm of the calculated probability is stored. This function\n",
       "allows adding probabilities stored in such a fashion.\n",
       "\n",
       "Parameters\n",
       "----------\n",
       "x1, x2 : array_like\n",
       "    Input values. If ``x1.shape != x2.shape``, they must be broadcastable to a common shape (which becomes the shape of the output).\n",
       "out : ndarray, None, or tuple of ndarray and None, optional\n",
       "    A location into which the result is stored. If provided, it must have\n",
       "    a shape that the inputs broadcast to. If not provided or `None`,\n",
       "    a freshly-allocated array is returned. A tuple (possible only as a\n",
       "    keyword argument) must have length equal to the number of outputs.\n",
       "where : array_like, optional\n",
       "    This condition is broadcast over the input. At locations where the\n",
       "    condition is True, the `out` array will be set to the ufunc result.\n",
       "    Elsewhere, the `out` array will retain its original value.\n",
       "    Note that if an uninitialized `out` array is created via the default\n",
       "    ``out=None``, locations within it where the condition is False will\n",
       "    remain uninitialized.\n",
       "**kwargs\n",
       "    For other keyword-only arguments, see the\n",
       "    :ref:`ufunc docs <ufuncs.kwargs>`.\n",
       "\n",
       "Returns\n",
       "-------\n",
       "result : ndarray\n",
       "    Logarithm of ``exp(x1) + exp(x2)``.\n",
       "    This is a scalar if both `x1` and `x2` are scalars.\n",
       "\n",
       "See Also\n",
       "--------\n",
       "logaddexp2: Logarithm of the sum of exponentiations of inputs in base 2.\n",
       "\n",
       "Notes\n",
       "-----\n",
       ".. versionadded:: 1.3.0\n",
       "\n",
       "Examples\n",
       "--------\n",
       ">>> prob1 = np.log(1e-50)\n",
       ">>> prob2 = np.log(2.5e-50)\n",
       ">>> prob12 = np.logaddexp(prob1, prob2)\n",
       ">>> prob12\n",
       "-113.87649168120691\n",
       ">>> np.exp(prob12)\n",
       "3.5000000000000057e-50\n",
       "\u001b[0;31mClass docstring:\u001b[0m\n",
       "Functions that operate element by element on whole arrays.\n",
       "\n",
       "To see the documentation for a specific ufunc, use `info`.  For\n",
       "example, ``np.info(np.sin)``.  Because ufuncs are written in C\n",
       "(for speed) and linked into Python with NumPy's ufunc facility,\n",
       "Python's help() function finds this page whenever help() is called\n",
       "on a ufunc.\n",
       "\n",
       "A detailed explanation of ufuncs can be found in the docs for :ref:`ufuncs`.\n",
       "\n",
       "Calling ufuncs:\n",
       "===============\n",
       "\n",
       "op(*x[, out], where=True, **kwargs)\n",
       "Apply `op` to the arguments `*x` elementwise, broadcasting the arguments.\n",
       "\n",
       "The broadcasting rules are:\n",
       "\n",
       "* Dimensions of length 1 may be prepended to either array.\n",
       "* Arrays may be repeated along dimensions of length 1.\n",
       "\n",
       "Parameters\n",
       "----------\n",
       "*x : array_like\n",
       "    Input arrays.\n",
       "out : ndarray, None, or tuple of ndarray and None, optional\n",
       "    Alternate array object(s) in which to put the result; if provided, it\n",
       "    must have a shape that the inputs broadcast to. A tuple of arrays\n",
       "    (possible only as a keyword argument) must have length equal to the\n",
       "    number of outputs; use `None` for uninitialized outputs to be\n",
       "    allocated by the ufunc.\n",
       "where : array_like, optional\n",
       "    This condition is broadcast over the input. At locations where the\n",
       "    condition is True, the `out` array will be set to the ufunc result.\n",
       "    Elsewhere, the `out` array will retain its original value.\n",
       "    Note that if an uninitialized `out` array is created via the default\n",
       "    ``out=None``, locations within it where the condition is False will\n",
       "    remain uninitialized.\n",
       "**kwargs\n",
       "    For other keyword-only arguments, see the :ref:`ufunc docs <ufuncs.kwargs>`.\n",
       "\n",
       "Returns\n",
       "-------\n",
       "r : ndarray or tuple of ndarray\n",
       "    `r` will have the shape that the arrays in `x` broadcast to; if `out` is\n",
       "    provided, it will be returned. If not, `r` will be allocated and\n",
       "    may contain uninitialized values. If the function has more than one\n",
       "    output, then the result will be a tuple of arrays.\n"
      ]
     },
     "metadata": {},
     "output_type": "display_data"
    }
   ],
   "source": [
    "np.logaddexp?"
   ]
  },
  {
   "cell_type": "code",
   "execution_count": null,
   "metadata": {},
   "outputs": [],
   "source": []
  }
 ],
 "metadata": {
  "kernelspec": {
   "display_name": "Python [conda env:replay_trajectory_classification] *",
   "language": "python",
   "name": "conda-env-replay_trajectory_classification-py"
  },
  "language_info": {
   "codemirror_mode": {
    "name": "ipython",
    "version": 3
   },
   "file_extension": ".py",
   "mimetype": "text/x-python",
   "name": "python",
   "nbconvert_exporter": "python",
   "pygments_lexer": "ipython3",
   "version": "3.6.7"
  }
 },
 "nbformat": 4,
 "nbformat_minor": 4
}
